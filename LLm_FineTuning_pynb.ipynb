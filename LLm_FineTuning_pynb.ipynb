{
  "cells": [
    {
      "cell_type": "markdown",
      "metadata": {
        "id": "2AqPte8bet51"
      },
      "source": []
    },
    {
      "cell_type": "markdown",
      "metadata": {
        "id": "1Rp80dTGpsDD"
      },
      "source": [
        " ### Setting up the project environment"
      ]
    },
    {
      "cell_type": "code",
      "execution_count": 1,
      "metadata": {
        "colab": {
          "base_uri": "https://localhost:8080/"
        },
        "id": "lx4wV2MIUJ8A",
        "outputId": "6c4936a3-0173-45dd-e704-b86a078680c9"
      },
      "outputs": [
        {
          "name": "stdout",
          "output_type": "stream",
          "text": [
            "Collecting openai==1.7.2\n",
            "  Using cached openai-1.7.2-py3-none-any.whl.metadata (17 kB)\n",
            "Requirement already satisfied: python-dotenv in /usr/local/lib/python3.11/dist-packages (1.1.0)\n",
            "Requirement already satisfied: anyio<5,>=3.5.0 in /usr/local/lib/python3.11/dist-packages (from openai==1.7.2) (4.9.0)\n",
            "Requirement already satisfied: distro<2,>=1.7.0 in /usr/local/lib/python3.11/dist-packages (from openai==1.7.2) (1.9.0)\n",
            "Requirement already satisfied: httpx<1,>=0.23.0 in /usr/local/lib/python3.11/dist-packages (from openai==1.7.2) (0.27.2)\n",
            "Requirement already satisfied: pydantic<3,>=1.9.0 in /usr/local/lib/python3.11/dist-packages (from openai==1.7.2) (2.11.3)\n",
            "Requirement already satisfied: sniffio in /usr/local/lib/python3.11/dist-packages (from openai==1.7.2) (1.3.1)\n",
            "Requirement already satisfied: tqdm>4 in /usr/local/lib/python3.11/dist-packages (from openai==1.7.2) (4.67.1)\n",
            "Requirement already satisfied: typing-extensions<5,>=4.7 in /usr/local/lib/python3.11/dist-packages (from openai==1.7.2) (4.13.2)\n",
            "Requirement already satisfied: idna>=2.8 in /usr/local/lib/python3.11/dist-packages (from anyio<5,>=3.5.0->openai==1.7.2) (3.10)\n",
            "Requirement already satisfied: certifi in /usr/local/lib/python3.11/dist-packages (from httpx<1,>=0.23.0->openai==1.7.2) (2025.1.31)\n",
            "Requirement already satisfied: httpcore==1.* in /usr/local/lib/python3.11/dist-packages (from httpx<1,>=0.23.0->openai==1.7.2) (1.0.8)\n",
            "Requirement already satisfied: h11<0.15,>=0.13 in /usr/local/lib/python3.11/dist-packages (from httpcore==1.*->httpx<1,>=0.23.0->openai==1.7.2) (0.14.0)\n",
            "Requirement already satisfied: annotated-types>=0.6.0 in /usr/local/lib/python3.11/dist-packages (from pydantic<3,>=1.9.0->openai==1.7.2) (0.7.0)\n",
            "Requirement already satisfied: pydantic-core==2.33.1 in /usr/local/lib/python3.11/dist-packages (from pydantic<3,>=1.9.0->openai==1.7.2) (2.33.1)\n",
            "Requirement already satisfied: typing-inspection>=0.4.0 in /usr/local/lib/python3.11/dist-packages (from pydantic<3,>=1.9.0->openai==1.7.2) (0.4.0)\n",
            "Using cached openai-1.7.2-py3-none-any.whl (212 kB)\n",
            "Installing collected packages: openai\n",
            "  Attempting uninstall: openai\n",
            "    Found existing installation: openai 1.75.0\n",
            "    Uninstalling openai-1.75.0:\n",
            "      Successfully uninstalled openai-1.75.0\n",
            "Successfully installed openai-1.7.2\n"
          ]
        }
      ],
      "source": [
        "!pip install openai==1.7.2 python-dotenv"
      ]
    },
    {
      "cell_type": "code",
      "execution_count": 2,
      "metadata": {
        "colab": {
          "base_uri": "https://localhost:8080/"
        },
        "id": "6N_Mhxn5Pwdz",
        "outputId": "aa26e8ad-5d47-4b2e-8342-e95e33488581"
      },
      "outputs": [
        {
          "name": "stdout",
          "output_type": "stream",
          "text": [
            "Requirement already satisfied: openai in /usr/local/lib/python3.11/dist-packages (1.7.2)\n",
            "Collecting openai\n",
            "  Using cached openai-1.75.0-py3-none-any.whl.metadata (25 kB)\n",
            "Requirement already satisfied: anyio<5,>=3.5.0 in /usr/local/lib/python3.11/dist-packages (from openai) (4.9.0)\n",
            "Requirement already satisfied: distro<2,>=1.7.0 in /usr/local/lib/python3.11/dist-packages (from openai) (1.9.0)\n",
            "Requirement already satisfied: httpx<1,>=0.23.0 in /usr/local/lib/python3.11/dist-packages (from openai) (0.27.2)\n",
            "Requirement already satisfied: jiter<1,>=0.4.0 in /usr/local/lib/python3.11/dist-packages (from openai) (0.9.0)\n",
            "Requirement already satisfied: pydantic<3,>=1.9.0 in /usr/local/lib/python3.11/dist-packages (from openai) (2.11.3)\n",
            "Requirement already satisfied: sniffio in /usr/local/lib/python3.11/dist-packages (from openai) (1.3.1)\n",
            "Requirement already satisfied: tqdm>4 in /usr/local/lib/python3.11/dist-packages (from openai) (4.67.1)\n",
            "Requirement already satisfied: typing-extensions<5,>=4.11 in /usr/local/lib/python3.11/dist-packages (from openai) (4.13.2)\n",
            "Requirement already satisfied: idna>=2.8 in /usr/local/lib/python3.11/dist-packages (from anyio<5,>=3.5.0->openai) (3.10)\n",
            "Requirement already satisfied: certifi in /usr/local/lib/python3.11/dist-packages (from httpx<1,>=0.23.0->openai) (2025.1.31)\n",
            "Requirement already satisfied: httpcore==1.* in /usr/local/lib/python3.11/dist-packages (from httpx<1,>=0.23.0->openai) (1.0.8)\n",
            "Requirement already satisfied: h11<0.15,>=0.13 in /usr/local/lib/python3.11/dist-packages (from httpcore==1.*->httpx<1,>=0.23.0->openai) (0.14.0)\n",
            "Requirement already satisfied: annotated-types>=0.6.0 in /usr/local/lib/python3.11/dist-packages (from pydantic<3,>=1.9.0->openai) (0.7.0)\n",
            "Requirement already satisfied: pydantic-core==2.33.1 in /usr/local/lib/python3.11/dist-packages (from pydantic<3,>=1.9.0->openai) (2.33.1)\n",
            "Requirement already satisfied: typing-inspection>=0.4.0 in /usr/local/lib/python3.11/dist-packages (from pydantic<3,>=1.9.0->openai) (0.4.0)\n",
            "Using cached openai-1.75.0-py3-none-any.whl (646 kB)\n",
            "Installing collected packages: openai\n",
            "  Attempting uninstall: openai\n",
            "    Found existing installation: openai 1.7.2\n",
            "    Uninstalling openai-1.7.2:\n",
            "      Successfully uninstalled openai-1.7.2\n",
            "Successfully installed openai-1.75.0\n"
          ]
        }
      ],
      "source": [
        "!pip install --upgrade openai"
      ]
    },
    {
      "cell_type": "markdown",
      "metadata": {
        "id": "qypdUNULptjB"
      },
      "source": [
        "### Importing modules"
      ]
    },
    {
      "cell_type": "code",
      "execution_count": 2,
      "metadata": {
        "id": "VFCpOuqvePoL"
      },
      "outputs": [],
      "source": []
    },
    {
      "cell_type": "code",
      "execution_count": 3,
      "metadata": {
        "colab": {
          "base_uri": "https://localhost:8080/"
        },
        "id": "YFmEp0r5T2eI",
        "outputId": "ef74fcaa-7069-4995-a390-9db922716bb8"
      },
      "outputs": [
        {
          "name": "stdout",
          "output_type": "stream",
          "text": [
            "Modules are imported.\n"
          ]
        }
      ],
      "source": [
        "import pandas as pd\n",
        "import os, time\n",
        "from openai import OpenAI\n",
        "from dotenv import load_dotenv\n",
        "import json\n",
        "import matplotlib.pyplot as plt\n",
        "\n",
        "print(\"Modules are imported.\")"
      ]
    },
    {
      "cell_type": "markdown",
      "metadata": {
        "id": "XfVAcV_XqDja"
      },
      "source": [
        "Setting up the OpenAI API:\n",
        "\n",
        "* Prepare a .env file to store the OpenAI API key.\n",
        "* Uploading the .env file to our colab environment\n",
        "* Load the API key and setup the API"
      ]
    },
    {
      "cell_type": "code",
      "execution_count": null,
      "metadata": {
        "colab": {
          "base_uri": "https://localhost:8080/"
        },
        "id": "rbXC4QM4qCBe",
        "outputId": "c17b24df-1cb7-430a-bebe-175b1d6d3f05"
      },
      "outputs": [],
      "source": [
        "load_dotenv('apikey.env.txt')\n",
        "\n",
        "APIKEY = os.getenv('APIKEY')\n",
        "\n",
        "ORGID = os.getenv('ORGID')\n",
        "\n",
        "print(APIKEY)\n",
        "print(ORGID)"
<<<<<<< HEAD
      ],
=======
      ]
>>>>>>> 9659843 (Fix small bug)
    },
    {
      "cell_type": "markdown",
      "metadata": {
        "id": "rWxipGQIpxH8"
      },
      "source": [
        "### Creating OpenAI Client"
      ]
    },
    {
      "cell_type": "markdown",
      "metadata": {
        "id": "YrLWj1m3plIl"
      },
      "source": []
    },
    {
      "cell_type": "code",
      "execution_count": 8,
      "metadata": {
        "colab": {
          "base_uri": "https://localhost:8080/"
        },
        "id": "nHj-RaA5p0WE",
        "outputId": "a5c3e0e9-0f27-4aec-f1d5-782f75678f8f"
      },
      "outputs": [
        {
          "data": {
            "text/plain": [
              "<openai.OpenAI at 0x7c6463255110>"
            ]
          },
          "execution_count": 8,
          "metadata": {},
          "output_type": "execute_result"
        }
      ],
      "source": [
        "\n",
        "client = OpenAI(api_key=APIKEY, organization=ORGID)\n",
        "client"
      ]
    },
    {
      "cell_type": "markdown",
      "metadata": {
        "id": "0r2XnfwnqTCK"
      },
      "source": [
        "##  Prepare the training data"
      ]
    },
    {
      "cell_type": "markdown",
      "metadata": {
        "id": "-_Alc-CyuHmE"
      },
      "source": [
        "Loading the provided `Customer Complaints.csv`\n",
        "\n"
      ]
    },
    {
      "cell_type": "code",
      "execution_count": 10,
      "metadata": {
        "colab": {
          "base_uri": "https://localhost:8080/",
          "height": 424
        },
        "id": "jan2OKk5qW1J",
        "outputId": "3fb585b8-141b-4c87-d35a-d39c77678b70"
      },
      "outputs": [
        {
          "data": {
            "application/vnd.google.colaboratory.intrinsic+json": {
              "summary": "{\n  \"name\": \"training_data\",\n  \"rows\": 67,\n  \"fields\": [\n    {\n      \"column\": \"Complaints\",\n      \"properties\": {\n        \"dtype\": \"string\",\n        \"num_unique_values\": 67,\n        \"samples\": [\n          \" Phone plan changed without consent! Unacceptable manipulation. Furious!\",\n          \" Charged for services not used! Unacceptable billing. Furious!\",\n          \" Internet speed slower than a snail! Can't stream or download anything. Frustrating!\"\n        ],\n        \"semantic_type\": \"\",\n        \"description\": \"\"\n      }\n    },\n    {\n      \"column\": \"Details\",\n      \"properties\": {\n        \"dtype\": \"string\",\n        \"num_unique_values\": 55,\n        \"samples\": [\n          \"{\\\"Topic\\\": \\\"Internet\\\", \\\"Problem\\\": \\\"Throttling\\\", \\\"Customer_Dissatisfaction_Index\\\": 85}\",\n          \"{\\\"Topic\\\": \\\"TV\\\", \\\"Problem\\\": \\\"Channels freezing\\\", \\\"Customer_Dissatisfaction_Index\\\": 85}\",\n          \"{\\\"Topic\\\": \\\"TV\\\", \\\"Problem\\\": \\\"Remote malfunction\\\", \\\"Customer_Dissatisfaction_Index\\\": 80}\"\n        ],\n        \"semantic_type\": \"\",\n        \"description\": \"\"\n      }\n    }\n  ]\n}",
              "type": "dataframe",
              "variable_name": "training_data"
            },
            "text/html": [
              "\n",
              "  <div id=\"df-ede15129-ac8b-45cc-8ace-c3e0f66d0c82\" class=\"colab-df-container\">\n",
              "    <div>\n",
              "<style scoped>\n",
              "    .dataframe tbody tr th:only-of-type {\n",
              "        vertical-align: middle;\n",
              "    }\n",
              "\n",
              "    .dataframe tbody tr th {\n",
              "        vertical-align: top;\n",
              "    }\n",
              "\n",
              "    .dataframe thead th {\n",
              "        text-align: right;\n",
              "    }\n",
              "</style>\n",
              "<table border=\"1\" class=\"dataframe\">\n",
              "  <thead>\n",
              "    <tr style=\"text-align: right;\">\n",
              "      <th></th>\n",
              "      <th>Complaints</th>\n",
              "      <th>Details</th>\n",
              "    </tr>\n",
              "  </thead>\n",
              "  <tbody>\n",
              "    <tr>\n",
              "      <th>0</th>\n",
              "      <td>Unreliable internet! Sick of constant outages...</td>\n",
              "      <td>{\"Topic\": \"Internet\", \"Problem\": \"Unreliable s...</td>\n",
              "    </tr>\n",
              "    <tr>\n",
              "      <th>1</th>\n",
              "      <td>TV signal keeps dropping during crucial momen...</td>\n",
              "      <td>{\"Topic\": \"TV\", \"Problem\": \"Signal dropout\", \"...</td>\n",
              "    </tr>\n",
              "    <tr>\n",
              "      <th>2</th>\n",
              "      <td>Phone line always crackling! Can't hear a thi...</td>\n",
              "      <td>{\"Topic\": \"Phone\", \"Problem\": \"Crackling line\"...</td>\n",
              "    </tr>\n",
              "    <tr>\n",
              "      <th>3</th>\n",
              "      <td>Ridiculous prices for such terrible service! ...</td>\n",
              "      <td>{\"Topic\": \"Billing\", \"Problem\": \"Overcharged\",...</td>\n",
              "    </tr>\n",
              "    <tr>\n",
              "      <th>4</th>\n",
              "      <td>Internet speed slower than a snail! Can't str...</td>\n",
              "      <td>{\"Topic\": \"Internet\", \"Problem\": \"Slow speed\",...</td>\n",
              "    </tr>\n",
              "    <tr>\n",
              "      <th>...</th>\n",
              "      <td>...</td>\n",
              "      <td>...</td>\n",
              "    </tr>\n",
              "    <tr>\n",
              "      <th>62</th>\n",
              "      <td>Poor call quality during international calls! ...</td>\n",
              "      <td>{\"Topic\": \"Phone\", \"Problem\": \"Poor call quali...</td>\n",
              "    </tr>\n",
              "    <tr>\n",
              "      <th>63</th>\n",
              "      <td>Incorrect charges on my bill every month! Unre...</td>\n",
              "      <td>{\"Topic\": \"Billing\", \"Problem\": \"Incorrect cha...</td>\n",
              "    </tr>\n",
              "    <tr>\n",
              "      <th>64</th>\n",
              "      <td>This service is terrible! Can't believe I'm pa...</td>\n",
              "      <td>{\"Topic\": \"PulseNet General\", \"Problem\": \"Gene...</td>\n",
              "    </tr>\n",
              "    <tr>\n",
              "      <th>65</th>\n",
              "      <td>This product is a complete waste of money! Dis...</td>\n",
              "      <td>{\"Topic\": \"PulseNet General\", \"Problem\": \"Gene...</td>\n",
              "    </tr>\n",
              "    <tr>\n",
              "      <th>66</th>\n",
              "      <td>I am utterly fed up with this!</td>\n",
              "      <td>{\"Topic\": \"PulseNet General\", \"Problem\": \"Gene...</td>\n",
              "    </tr>\n",
              "  </tbody>\n",
              "</table>\n",
              "<p>67 rows × 2 columns</p>\n",
              "</div>\n",
              "    <div class=\"colab-df-buttons\">\n",
              "\n",
              "  <div class=\"colab-df-container\">\n",
              "    <button class=\"colab-df-convert\" onclick=\"convertToInteractive('df-ede15129-ac8b-45cc-8ace-c3e0f66d0c82')\"\n",
              "            title=\"Convert this dataframe to an interactive table.\"\n",
              "            style=\"display:none;\">\n",
              "\n",
              "  <svg xmlns=\"http://www.w3.org/2000/svg\" height=\"24px\" viewBox=\"0 -960 960 960\">\n",
              "    <path d=\"M120-120v-720h720v720H120Zm60-500h600v-160H180v160Zm220 220h160v-160H400v160Zm0 220h160v-160H400v160ZM180-400h160v-160H180v160Zm440 0h160v-160H620v160ZM180-180h160v-160H180v160Zm440 0h160v-160H620v160Z\"/>\n",
              "  </svg>\n",
              "    </button>\n",
              "\n",
              "  <style>\n",
              "    .colab-df-container {\n",
              "      display:flex;\n",
              "      gap: 12px;\n",
              "    }\n",
              "\n",
              "    .colab-df-convert {\n",
              "      background-color: #E8F0FE;\n",
              "      border: none;\n",
              "      border-radius: 50%;\n",
              "      cursor: pointer;\n",
              "      display: none;\n",
              "      fill: #1967D2;\n",
              "      height: 32px;\n",
              "      padding: 0 0 0 0;\n",
              "      width: 32px;\n",
              "    }\n",
              "\n",
              "    .colab-df-convert:hover {\n",
              "      background-color: #E2EBFA;\n",
              "      box-shadow: 0px 1px 2px rgba(60, 64, 67, 0.3), 0px 1px 3px 1px rgba(60, 64, 67, 0.15);\n",
              "      fill: #174EA6;\n",
              "    }\n",
              "\n",
              "    .colab-df-buttons div {\n",
              "      margin-bottom: 4px;\n",
              "    }\n",
              "\n",
              "    [theme=dark] .colab-df-convert {\n",
              "      background-color: #3B4455;\n",
              "      fill: #D2E3FC;\n",
              "    }\n",
              "\n",
              "    [theme=dark] .colab-df-convert:hover {\n",
              "      background-color: #434B5C;\n",
              "      box-shadow: 0px 1px 3px 1px rgba(0, 0, 0, 0.15);\n",
              "      filter: drop-shadow(0px 1px 2px rgba(0, 0, 0, 0.3));\n",
              "      fill: #FFFFFF;\n",
              "    }\n",
              "  </style>\n",
              "\n",
              "    <script>\n",
              "      const buttonEl =\n",
              "        document.querySelector('#df-ede15129-ac8b-45cc-8ace-c3e0f66d0c82 button.colab-df-convert');\n",
              "      buttonEl.style.display =\n",
              "        google.colab.kernel.accessAllowed ? 'block' : 'none';\n",
              "\n",
              "      async function convertToInteractive(key) {\n",
              "        const element = document.querySelector('#df-ede15129-ac8b-45cc-8ace-c3e0f66d0c82');\n",
              "        const dataTable =\n",
              "          await google.colab.kernel.invokeFunction('convertToInteractive',\n",
              "                                                    [key], {});\n",
              "        if (!dataTable) return;\n",
              "\n",
              "        const docLinkHtml = 'Like what you see? Visit the ' +\n",
              "          '<a target=\"_blank\" href=https://colab.research.google.com/notebooks/data_table.ipynb>data table notebook</a>'\n",
              "          + ' to learn more about interactive tables.';\n",
              "        element.innerHTML = '';\n",
              "        dataTable['output_type'] = 'display_data';\n",
              "        await google.colab.output.renderOutput(dataTable, element);\n",
              "        const docLink = document.createElement('div');\n",
              "        docLink.innerHTML = docLinkHtml;\n",
              "        element.appendChild(docLink);\n",
              "      }\n",
              "    </script>\n",
              "  </div>\n",
              "\n",
              "\n",
              "<div id=\"df-b5711aab-acb4-4d63-817f-2dc95a8519a9\">\n",
              "  <button class=\"colab-df-quickchart\" onclick=\"quickchart('df-b5711aab-acb4-4d63-817f-2dc95a8519a9')\"\n",
              "            title=\"Suggest charts\"\n",
              "            style=\"display:none;\">\n",
              "\n",
              "<svg xmlns=\"http://www.w3.org/2000/svg\" height=\"24px\"viewBox=\"0 0 24 24\"\n",
              "     width=\"24px\">\n",
              "    <g>\n",
              "        <path d=\"M19 3H5c-1.1 0-2 .9-2 2v14c0 1.1.9 2 2 2h14c1.1 0 2-.9 2-2V5c0-1.1-.9-2-2-2zM9 17H7v-7h2v7zm4 0h-2V7h2v10zm4 0h-2v-4h2v4z\"/>\n",
              "    </g>\n",
              "</svg>\n",
              "  </button>\n",
              "\n",
              "<style>\n",
              "  .colab-df-quickchart {\n",
              "      --bg-color: #E8F0FE;\n",
              "      --fill-color: #1967D2;\n",
              "      --hover-bg-color: #E2EBFA;\n",
              "      --hover-fill-color: #174EA6;\n",
              "      --disabled-fill-color: #AAA;\n",
              "      --disabled-bg-color: #DDD;\n",
              "  }\n",
              "\n",
              "  [theme=dark] .colab-df-quickchart {\n",
              "      --bg-color: #3B4455;\n",
              "      --fill-color: #D2E3FC;\n",
              "      --hover-bg-color: #434B5C;\n",
              "      --hover-fill-color: #FFFFFF;\n",
              "      --disabled-bg-color: #3B4455;\n",
              "      --disabled-fill-color: #666;\n",
              "  }\n",
              "\n",
              "  .colab-df-quickchart {\n",
              "    background-color: var(--bg-color);\n",
              "    border: none;\n",
              "    border-radius: 50%;\n",
              "    cursor: pointer;\n",
              "    display: none;\n",
              "    fill: var(--fill-color);\n",
              "    height: 32px;\n",
              "    padding: 0;\n",
              "    width: 32px;\n",
              "  }\n",
              "\n",
              "  .colab-df-quickchart:hover {\n",
              "    background-color: var(--hover-bg-color);\n",
              "    box-shadow: 0 1px 2px rgba(60, 64, 67, 0.3), 0 1px 3px 1px rgba(60, 64, 67, 0.15);\n",
              "    fill: var(--button-hover-fill-color);\n",
              "  }\n",
              "\n",
              "  .colab-df-quickchart-complete:disabled,\n",
              "  .colab-df-quickchart-complete:disabled:hover {\n",
              "    background-color: var(--disabled-bg-color);\n",
              "    fill: var(--disabled-fill-color);\n",
              "    box-shadow: none;\n",
              "  }\n",
              "\n",
              "  .colab-df-spinner {\n",
              "    border: 2px solid var(--fill-color);\n",
              "    border-color: transparent;\n",
              "    border-bottom-color: var(--fill-color);\n",
              "    animation:\n",
              "      spin 1s steps(1) infinite;\n",
              "  }\n",
              "\n",
              "  @keyframes spin {\n",
              "    0% {\n",
              "      border-color: transparent;\n",
              "      border-bottom-color: var(--fill-color);\n",
              "      border-left-color: var(--fill-color);\n",
              "    }\n",
              "    20% {\n",
              "      border-color: transparent;\n",
              "      border-left-color: var(--fill-color);\n",
              "      border-top-color: var(--fill-color);\n",
              "    }\n",
              "    30% {\n",
              "      border-color: transparent;\n",
              "      border-left-color: var(--fill-color);\n",
              "      border-top-color: var(--fill-color);\n",
              "      border-right-color: var(--fill-color);\n",
              "    }\n",
              "    40% {\n",
              "      border-color: transparent;\n",
              "      border-right-color: var(--fill-color);\n",
              "      border-top-color: var(--fill-color);\n",
              "    }\n",
              "    60% {\n",
              "      border-color: transparent;\n",
              "      border-right-color: var(--fill-color);\n",
              "    }\n",
              "    80% {\n",
              "      border-color: transparent;\n",
              "      border-right-color: var(--fill-color);\n",
              "      border-bottom-color: var(--fill-color);\n",
              "    }\n",
              "    90% {\n",
              "      border-color: transparent;\n",
              "      border-bottom-color: var(--fill-color);\n",
              "    }\n",
              "  }\n",
              "</style>\n",
              "\n",
              "  <script>\n",
              "    async function quickchart(key) {\n",
              "      const quickchartButtonEl =\n",
              "        document.querySelector('#' + key + ' button');\n",
              "      quickchartButtonEl.disabled = true;  // To prevent multiple clicks.\n",
              "      quickchartButtonEl.classList.add('colab-df-spinner');\n",
              "      try {\n",
              "        const charts = await google.colab.kernel.invokeFunction(\n",
              "            'suggestCharts', [key], {});\n",
              "      } catch (error) {\n",
              "        console.error('Error during call to suggestCharts:', error);\n",
              "      }\n",
              "      quickchartButtonEl.classList.remove('colab-df-spinner');\n",
              "      quickchartButtonEl.classList.add('colab-df-quickchart-complete');\n",
              "    }\n",
              "    (() => {\n",
              "      let quickchartButtonEl =\n",
              "        document.querySelector('#df-b5711aab-acb4-4d63-817f-2dc95a8519a9 button');\n",
              "      quickchartButtonEl.style.display =\n",
              "        google.colab.kernel.accessAllowed ? 'block' : 'none';\n",
              "    })();\n",
              "  </script>\n",
              "</div>\n",
              "\n",
              "  <div id=\"id_27cba489-ba7b-4321-accb-5dd2a59a4f06\">\n",
              "    <style>\n",
              "      .colab-df-generate {\n",
              "        background-color: #E8F0FE;\n",
              "        border: none;\n",
              "        border-radius: 50%;\n",
              "        cursor: pointer;\n",
              "        display: none;\n",
              "        fill: #1967D2;\n",
              "        height: 32px;\n",
              "        padding: 0 0 0 0;\n",
              "        width: 32px;\n",
              "      }\n",
              "\n",
              "      .colab-df-generate:hover {\n",
              "        background-color: #E2EBFA;\n",
              "        box-shadow: 0px 1px 2px rgba(60, 64, 67, 0.3), 0px 1px 3px 1px rgba(60, 64, 67, 0.15);\n",
              "        fill: #174EA6;\n",
              "      }\n",
              "\n",
              "      [theme=dark] .colab-df-generate {\n",
              "        background-color: #3B4455;\n",
              "        fill: #D2E3FC;\n",
              "      }\n",
              "\n",
              "      [theme=dark] .colab-df-generate:hover {\n",
              "        background-color: #434B5C;\n",
              "        box-shadow: 0px 1px 3px 1px rgba(0, 0, 0, 0.15);\n",
              "        filter: drop-shadow(0px 1px 2px rgba(0, 0, 0, 0.3));\n",
              "        fill: #FFFFFF;\n",
              "      }\n",
              "    </style>\n",
              "    <button class=\"colab-df-generate\" onclick=\"generateWithVariable('training_data')\"\n",
              "            title=\"Generate code using this dataframe.\"\n",
              "            style=\"display:none;\">\n",
              "\n",
              "  <svg xmlns=\"http://www.w3.org/2000/svg\" height=\"24px\"viewBox=\"0 0 24 24\"\n",
              "       width=\"24px\">\n",
              "    <path d=\"M7,19H8.4L18.45,9,17,7.55,7,17.6ZM5,21V16.75L18.45,3.32a2,2,0,0,1,2.83,0l1.4,1.43a1.91,1.91,0,0,1,.58,1.4,1.91,1.91,0,0,1-.58,1.4L9.25,21ZM18.45,9,17,7.55Zm-12,3A5.31,5.31,0,0,0,4.9,8.1,5.31,5.31,0,0,0,1,6.5,5.31,5.31,0,0,0,4.9,4.9,5.31,5.31,0,0,0,6.5,1,5.31,5.31,0,0,0,8.1,4.9,5.31,5.31,0,0,0,12,6.5,5.46,5.46,0,0,0,6.5,12Z\"/>\n",
              "  </svg>\n",
              "    </button>\n",
              "    <script>\n",
              "      (() => {\n",
              "      const buttonEl =\n",
              "        document.querySelector('#id_27cba489-ba7b-4321-accb-5dd2a59a4f06 button.colab-df-generate');\n",
              "      buttonEl.style.display =\n",
              "        google.colab.kernel.accessAllowed ? 'block' : 'none';\n",
              "\n",
              "      buttonEl.onclick = () => {\n",
              "        google.colab.notebook.generateWithVariable('training_data');\n",
              "      }\n",
              "      })();\n",
              "    </script>\n",
              "  </div>\n",
              "\n",
              "    </div>\n",
              "  </div>\n"
            ],
            "text/plain": [
              "                                           Complaints  \\\n",
              "0    Unreliable internet! Sick of constant outages...   \n",
              "1    TV signal keeps dropping during crucial momen...   \n",
              "2    Phone line always crackling! Can't hear a thi...   \n",
              "3    Ridiculous prices for such terrible service! ...   \n",
              "4    Internet speed slower than a snail! Can't str...   \n",
              "..                                                ...   \n",
              "62  Poor call quality during international calls! ...   \n",
              "63  Incorrect charges on my bill every month! Unre...   \n",
              "64  This service is terrible! Can't believe I'm pa...   \n",
              "65  This product is a complete waste of money! Dis...   \n",
              "66                     I am utterly fed up with this!   \n",
              "\n",
              "                                              Details  \n",
              "0   {\"Topic\": \"Internet\", \"Problem\": \"Unreliable s...  \n",
              "1   {\"Topic\": \"TV\", \"Problem\": \"Signal dropout\", \"...  \n",
              "2   {\"Topic\": \"Phone\", \"Problem\": \"Crackling line\"...  \n",
              "3   {\"Topic\": \"Billing\", \"Problem\": \"Overcharged\",...  \n",
              "4   {\"Topic\": \"Internet\", \"Problem\": \"Slow speed\",...  \n",
              "..                                                ...  \n",
              "62  {\"Topic\": \"Phone\", \"Problem\": \"Poor call quali...  \n",
              "63  {\"Topic\": \"Billing\", \"Problem\": \"Incorrect cha...  \n",
              "64  {\"Topic\": \"PulseNet General\", \"Problem\": \"Gene...  \n",
              "65  {\"Topic\": \"PulseNet General\", \"Problem\": \"Gene...  \n",
              "66  {\"Topic\": \"PulseNet General\", \"Problem\": \"Gene...  \n",
              "\n",
              "[67 rows x 2 columns]"
            ]
          },
          "execution_count": 10,
          "metadata": {},
          "output_type": "execute_result"
        }
      ],
      "source": [
        "training_data = pd.read_csv(\"Customer Complaints.csv\")\n",
        "\n",
        "training_data"
      ]
    },
    {
      "cell_type": "markdown",
      "metadata": {
        "id": "uIK863G-qvMN"
      },
      "source": [
        "**Converting the Complaints records to json**\n",
        "\n",
        "To be able to use the data for the fine-tuning purpose, we first need to convert each row of the dataframe into the following format:\n",
        "\n",
        "<pre>\n",
        "<code>\n",
        "{\n",
        "  <span style=\"color: blue;\">\"messages\"</span>: [\n",
        "    {\n",
        "      <span style=\"color: blue;\">\"role\"</span>: <span style=\"color: red;\">\"system\"</span>,\n",
        "      <span style=\"color: blue;\">\"content\"</span>: \"<span style=\"color: green;\">Providing context about the user's prompt.\n",
        "                  It may include information about the task,\n",
        "                  instructions, or background details relevant\n",
        "                  to the conversation.</span>\"\n",
        "    },\n",
        "    {\n",
        "      <span style=\"color: blue;\">\"role\"</span>: <span style=\"color: red;\">\"user\"</span>,\n",
        "      <span style=\"color: blue;\">\"content\"</span>: \"<span style=\"color: green;\">the prompt or input provided by the user,\n",
        "                  which typically initiates the conversation with the assistant.</span>\"\n",
        "    },\n",
        "    {\n",
        "      <span style=\"color: blue;\">\"role\"</span>: <span style=\"color: red;\">\"assistant\"</span>,\n",
        "      <span style=\"color: blue;\">\"content\"</span>: \"<span style=\"color: green;\">The desired response or output generated by\n",
        "                  the assistant in response to the user's prompt.</span>\"\n",
        "    }\n",
        "  ]\n",
        "}\n",
        "</code>\n",
        "</pre>\n",
        "\n",
        "Let's get started!"
      ]
    },
    {
      "cell_type": "markdown",
      "metadata": {
        "id": "fWVCfuvRjdXa"
      },
      "source": [
        "Let's define a method that get's a row of the dataframe and convert it into the json format"
      ]
    },
    {
      "cell_type": "code",
      "execution_count": 11,
      "metadata": {
        "id": "-tHnvRamq5NK"
      },
      "outputs": [],
      "source": [
        "def save_as_json(row):\n",
        "\n",
        "  system_content = \"\"\"\n",
        "      Given a customer complaint text, extract and return the following information in json (dict) format:\n",
        "      - Topic: The product/department that the customer has a complaint about.\n",
        "      - Problem: A two or three-word description of what exactly the problem is.\n",
        "      - Customer_Dissatisfaction_Index: is a number between 0 and 100 showing\n",
        "             how angry the customer is about the problem.\n",
        "  \"\"\"\n",
        "\n",
        "  formatted_data = {\n",
        "        \"messages\": [\n",
        "            {\"role\": \"system\", \"content\": system_content},\n",
        "            {\"role\": \"user\", \"content\": row.Complaints},\n",
        "            {\"role\": \"assistant\", \"content\": row.Details}\n",
        "        ]\n",
        "      }\n",
        "\n",
        "  with open(\"training_data.json\", \"a\") as json_file:\n",
        "        json.dump(formatted_data, json_file)\n",
        "        json_file.write(\"\\n\")"
      ]
    },
    {
      "cell_type": "markdown",
      "metadata": {
        "id": "K3haPgzI-ClF"
      },
      "source": [
        "Now let's use of this method to generate the `training_data.json`"
      ]
    },
    {
      "cell_type": "code",
      "execution_count": 12,
      "metadata": {
        "id": "LNOMxwSX8dE4"
      },
      "outputs": [],
      "source": [
        "for index, row in training_data.iterrows():\n",
        "  save_as_json(row)"
      ]
    },
    {
      "cell_type": "markdown",
      "metadata": {
        "id": "Jo9HFdW0jput"
      },
      "source": [
        "## Fine-tune GPT 3.5 based on our training data"
      ]
    },
    {
      "cell_type": "markdown",
      "metadata": {
        "id": "h4TMhzSNj4hH"
      },
      "source": [
        "Let's import the json file we prepared as our training data"
      ]
    },
    {
      "cell_type": "code",
      "execution_count": 13,
      "metadata": {
        "colab": {
          "base_uri": "https://localhost:8080/"
        },
        "id": "ExJ2cRU5-XtH",
        "outputId": "3a8b4f90-0e36-4301-b940-37ca4413d258"
      },
      "outputs": [
        {
          "data": {
            "text/plain": [
              "FileObject(id='file-EVAqiBBg5tbjochCcPjVDW', bytes=46722, created_at=1745141370, filename='training_data.json', object='file', purpose='fine-tune', status='processed', expires_at=None, status_details=None)"
            ]
          },
          "execution_count": 13,
          "metadata": {},
          "output_type": "execute_result"
        }
      ],
      "source": [
        "data_file = client.files.create(\n",
        "  file = open(\"training_data.json\", \"rb\"),\n",
        "  purpose='fine-tune'\n",
        ")\n",
        "\n",
        "data_file"
      ]
    },
    {
      "cell_type": "markdown",
      "metadata": {
        "id": "TiBcO3I0kIU5"
      },
      "source": [
        "Create the Fine Tuning Job"
      ]
    },
    {
      "cell_type": "code",
      "execution_count": 37,
      "metadata": {
        "colab": {
          "base_uri": "https://localhost:8080/"
        },
        "id": "BXJB348zkMSx",
        "outputId": "368ce2e4-74ce-4ad4-9ee3-cc1cb48c9028"
      },
      "outputs": [
        {
          "data": {
            "text/plain": [
              "FineTuningJob(id='ftjob-swfT1mHWg2UueALitUFwUpaM', created_at=1745142888, error=Error(code=None, message=None, param=None), fine_tuned_model=None, finished_at=None, hyperparameters=Hyperparameters(batch_size='auto', learning_rate_multiplier='auto', n_epochs='auto'), model='gpt-3.5-turbo-0125', object='fine_tuning.job', organization_id='org-c8T7bCnQ7TKP6YfiSBCOuo8l', result_files=[], seed=723153126, status='validating_files', trained_tokens=None, training_file='file-EVAqiBBg5tbjochCcPjVDW', validation_file=None, estimated_finish=None, integrations=[], metadata=None, method=Method(dpo=None, supervised=MethodSupervised(hyperparameters=MethodSupervisedHyperparameters(batch_size='auto', learning_rate_multiplier='auto', n_epochs='auto')), type='supervised'), user_provided_suffix=None)"
            ]
          },
          "execution_count": 37,
          "metadata": {},
          "output_type": "execute_result"
        }
      ],
      "source": [
        "fine_tuinig_job = client.fine_tuning.jobs.create(\n",
        "    training_file = data_file.id,\n",
        "    model = 'gpt-3.5-turbo',\n",
        "    hyperparameters = {\n",
        "        \"n_epochs\": 'auto'\n",
        "    }\n",
        ")\n",
        "\n",
        "fine_tuinig_job"
      ]
    },
    {
      "cell_type": "markdown",
      "metadata": {
        "id": "u7XWcO_7kzY6"
      },
      "source": [
        "Let's retrieve the state of the fine-tune"
      ]
    },
    {
      "cell_type": "code",
      "execution_count": 38,
      "metadata": {
        "colab": {
          "base_uri": "https://localhost:8080/"
        },
        "id": "hpbHjWu3AS4k",
        "outputId": "9ed89aa9-db30-4752-b074-47ecf80cb729"
      },
      "outputs": [
        {
          "name": "stdout",
          "output_type": "stream",
          "text": [
            "validating_files\n",
            "running\n",
            "running\n",
            "running\n",
            "running\n",
            "running\n",
            "running\n",
            "running\n",
            "running\n",
            "running\n",
            "running\n",
            "running\n",
            "running\n",
            "running\n",
            "running\n",
            "running\n",
            "running\n",
            "running\n",
            "running\n",
            "running\n",
            "running\n",
            "running\n",
            "running\n",
            "running\n",
            "running\n",
            "running\n",
            "running\n",
            "running\n",
            "running\n",
            "running\n",
            "running\n",
            "running\n",
            "running\n",
            "running\n",
            "running\n",
            "running\n",
            "running\n",
            "running\n",
            "running\n",
            "running\n",
            "running\n",
            "running\n",
            "running\n",
            "running\n",
            "running\n",
            "running\n",
            "running\n",
            "running\n",
            "running\n",
            "running\n",
            "running\n",
            "running\n",
            "running\n",
            "running\n",
            "running\n",
            "running\n",
            "running\n",
            "running\n",
            "running\n",
            "running\n",
            "running\n",
            "running\n",
            "running\n",
            "running\n",
            "running\n",
            "running\n",
            "running\n",
            "running\n",
            "running\n",
            "running\n",
            "running\n",
            "running\n",
            "running\n",
            "running\n",
            "running\n",
            "running\n",
            "running\n",
            "running\n",
            "running\n",
            "running\n",
            "running\n",
            "running\n",
            "running\n",
            "running\n",
            "running\n",
            "running\n",
            "running\n",
            "running\n",
            "running\n",
            "running\n",
            "running\n",
            "running\n",
            "running\n",
            "running\n",
            "running\n",
            "running\n",
            "running\n",
            "running\n",
            "running\n",
            "running\n",
            "running\n",
            "running\n",
            "running\n",
            "running\n",
            "running\n",
            "running\n",
            "running\n",
            "running\n",
            "running\n",
            "running\n",
            "running\n",
            "running\n",
            "running\n",
            "running\n",
            "running\n",
            "running\n",
            "running\n",
            "running\n",
            "running\n",
            "running\n",
            "running\n",
            "running\n",
            "running\n",
            "running\n",
            "running\n",
            "running\n",
            "running\n",
            "running\n",
            "running\n",
            "running\n",
            "running\n",
            "running\n",
            "running\n",
            "running\n",
            "running\n",
            "running\n",
            "running\n",
            "running\n",
            "running\n",
            "running\n",
            "running\n",
            "running\n",
            "running\n",
            "running\n",
            "running\n",
            "running\n",
            "running\n",
            "running\n",
            "running\n",
            "running\n",
            "running\n",
            "running\n",
            "running\n",
            "running\n",
            "running\n",
            "running\n",
            "running\n",
            "running\n",
            "running\n",
            "running\n",
            "running\n",
            "running\n",
            "running\n",
            "running\n",
            "running\n",
            "running\n",
            "running\n",
            "running\n",
            "running\n",
            "running\n",
            "running\n",
            "running\n",
            "running\n",
            "running\n",
            "running\n",
            "running\n",
            "running\n",
            "running\n",
            "running\n",
            "running\n",
            "running\n",
            "running\n",
            "running\n",
            "running\n",
            "running\n",
            "running\n",
            "running\n",
            "succeeded\n",
            "Job is Done\n"
          ]
        }
      ],
      "source": [
        "while True:\n",
        "  time.sleep(2)\n",
        "\n",
        "  retrive_job = client.fine_tuning.jobs.retrieve(fine_tuinig_job.id)\n",
        "\n",
        "  status = retrive_job.status\n",
        "\n",
        "  print(status)\n",
        "\n",
        "  if(status == 'succeeded'):\n",
        "    print(\"Job is Done\")\n",
        "    break"
      ]
    },
    {
      "cell_type": "markdown",
      "metadata": {
        "id": "4XB-sFc3kO4A"
      },
      "source": [
        "##  **Evaluate** model"
      ]
    },
    {
      "cell_type": "markdown",
      "metadata": {
        "id": "p_3bNsW3k_eR"
      },
      "source": [
        "Let's retrieve the event messages to check out the learning process of our fine-tuning job."
      ]
    },
    {
      "cell_type": "code",
      "execution_count": 39,
      "metadata": {
        "colab": {
          "base_uri": "https://localhost:8080/"
        },
        "id": "O2bif68aIEGJ",
        "outputId": "4c8f1862-762d-4c46-8468-6cbd71daa613"
      },
      "outputs": [
        {
          "name": "stdout",
          "output_type": "stream",
          "text": [
            "The job has successfully completed\n",
            "New fine-tuned model created\n",
            "Checkpoint created at step 134\n",
            "Checkpoint created at step 67\n",
            "Step 201/201: training loss=0.10\n",
            "Step 200/201: training loss=0.27\n",
            "Step 199/201: training loss=0.03\n",
            "Step 198/201: training loss=0.00\n",
            "Step 197/201: training loss=0.09\n",
            "Step 196/201: training loss=0.04\n",
            "Step 195/201: training loss=0.03\n",
            "Step 194/201: training loss=0.10\n",
            "Step 193/201: training loss=0.01\n",
            "Step 192/201: training loss=0.03\n",
            "Step 191/201: training loss=0.11\n",
            "Step 190/201: training loss=0.04\n",
            "Step 189/201: training loss=0.02\n",
            "Step 188/201: training loss=0.03\n",
            "Step 187/201: training loss=0.05\n",
            "Step 186/201: training loss=0.00\n",
            "Step 185/201: training loss=0.02\n",
            "Step 184/201: training loss=0.13\n",
            "Step 183/201: training loss=0.03\n",
            "Step 182/201: training loss=0.05\n",
            "Step 181/201: training loss=0.01\n",
            "Step 180/201: training loss=0.08\n",
            "Step 179/201: training loss=0.00\n",
            "Step 178/201: training loss=0.05\n",
            "Step 177/201: training loss=0.07\n",
            "Step 176/201: training loss=0.00\n",
            "Step 175/201: training loss=0.07\n",
            "Step 174/201: training loss=0.02\n",
            "Step 173/201: training loss=0.00\n",
            "Step 172/201: training loss=0.03\n",
            "Step 171/201: training loss=0.13\n",
            "Step 170/201: training loss=0.03\n",
            "Step 169/201: training loss=0.31\n",
            "Step 168/201: training loss=0.14\n",
            "Step 167/201: training loss=0.07\n",
            "Step 166/201: training loss=0.04\n",
            "Step 165/201: training loss=0.02\n",
            "Step 164/201: training loss=0.05\n",
            "Step 163/201: training loss=0.03\n",
            "Step 162/201: training loss=0.03\n",
            "Step 161/201: training loss=0.04\n",
            "Step 160/201: training loss=0.39\n",
            "Step 159/201: training loss=0.37\n",
            "Step 158/201: training loss=0.07\n",
            "Step 157/201: training loss=0.04\n",
            "Step 156/201: training loss=0.05\n",
            "Step 155/201: training loss=0.08\n",
            "Step 154/201: training loss=0.03\n",
            "Step 153/201: training loss=0.04\n",
            "Step 152/201: training loss=0.16\n",
            "Step 151/201: training loss=0.11\n",
            "Step 150/201: training loss=0.03\n",
            "Step 149/201: training loss=0.04\n",
            "Step 148/201: training loss=0.06\n",
            "Step 147/201: training loss=0.00\n",
            "Step 146/201: training loss=0.06\n",
            "Step 145/201: training loss=0.02\n",
            "Step 144/201: training loss=0.00\n",
            "Step 143/201: training loss=0.12\n",
            "Step 142/201: training loss=0.06\n",
            "Step 141/201: training loss=0.04\n",
            "Step 140/201: training loss=0.04\n",
            "Step 139/201: training loss=0.10\n",
            "Step 138/201: training loss=0.00\n",
            "Step 137/201: training loss=0.10\n",
            "Step 136/201: training loss=0.09\n",
            "Step 135/201: training loss=0.10\n",
            "Step 134/201: training loss=0.02\n",
            "Step 133/201: training loss=0.21\n",
            "Step 132/201: training loss=0.09\n",
            "Step 131/201: training loss=0.04\n",
            "Step 130/201: training loss=0.08\n",
            "Step 129/201: training loss=0.00\n",
            "Step 128/201: training loss=0.10\n",
            "Step 127/201: training loss=0.13\n",
            "Step 126/201: training loss=0.01\n",
            "Step 125/201: training loss=0.02\n",
            "Step 124/201: training loss=0.07\n",
            "Step 123/201: training loss=0.12\n",
            "Step 122/201: training loss=0.13\n",
            "Step 121/201: training loss=0.02\n",
            "Step 120/201: training loss=0.16\n",
            "Step 119/201: training loss=0.17\n",
            "Step 118/201: training loss=0.49\n",
            "Step 117/201: training loss=0.00\n",
            "Step 116/201: training loss=0.07\n",
            "Step 115/201: training loss=0.11\n",
            "Step 114/201: training loss=0.06\n",
            "Step 113/201: training loss=0.01\n",
            "Step 112/201: training loss=0.01\n",
            "Step 111/201: training loss=0.08\n",
            "Step 110/201: training loss=0.24\n",
            "Step 109/201: training loss=0.15\n",
            "Step 108/201: training loss=0.08\n",
            "Step 107/201: training loss=0.07\n",
            "Step 106/201: training loss=0.04\n"
          ]
        }
      ],
      "source": [
        "events = list(client.fine_tuning.jobs.list_events(fine_tuning_job_id = retrive_job.id, limit= 100).data)\n",
        "\n",
        "for e in events:\n",
        "  print(e.message)"
      ]
    },
    {
      "cell_type": "markdown",
      "metadata": {
        "id": "Pe3jUJJjyeO1"
      },
      "source": [
        "Let's extract the training loss in each learning step"
      ]
    },
    {
      "cell_type": "code",
      "execution_count": 40,
      "metadata": {
        "colab": {
          "base_uri": "https://localhost:8080/"
        },
        "id": "oqhDoVBNzW_w",
        "outputId": "26d7b1a2-9650-461b-cc04-8150e5b40c2a"
      },
      "outputs": [
        {
          "name": "stdout",
          "output_type": "stream",
          "text": [
            "{'step': 201, 'train_loss': 0.09889554977416992, 'total_steps': 201, 'train_mean_token_accuracy': 0.9642857313156128}\n",
            "{'step': 200, 'train_loss': 0.2666339874267578, 'total_steps': 201, 'train_mean_token_accuracy': 0.9629629850387573}\n",
            "{'step': 199, 'train_loss': 0.03480415418744087, 'total_steps': 201, 'train_mean_token_accuracy': 0.9599999785423279}\n",
            "{'step': 198, 'train_loss': 1.5188146790023893e-05, 'total_steps': 201, 'train_mean_token_accuracy': 1.0}\n",
            "{'step': 197, 'train_loss': 0.09169994294643402, 'total_steps': 201, 'train_mean_token_accuracy': 0.9642857313156128}\n",
            "{'step': 196, 'train_loss': 0.04409042373299599, 'total_steps': 201, 'train_mean_token_accuracy': 1.0}\n",
            "{'step': 195, 'train_loss': 0.02971464954316616, 'total_steps': 201, 'train_mean_token_accuracy': 1.0}\n",
            "{'step': 194, 'train_loss': 0.0982445627450943, 'total_steps': 201, 'train_mean_token_accuracy': 0.9629629850387573}\n",
            "{'step': 193, 'train_loss': 0.011003494262695312, 'total_steps': 201, 'train_mean_token_accuracy': 1.0}\n",
            "{'step': 192, 'train_loss': 0.026835661381483078, 'total_steps': 201, 'train_mean_token_accuracy': 1.0}\n",
            "{'step': 191, 'train_loss': 0.10847875475883484, 'total_steps': 201, 'train_mean_token_accuracy': 0.9629629850387573}\n",
            "{'step': 190, 'train_loss': 0.03897567838430405, 'total_steps': 201, 'train_mean_token_accuracy': 0.9599999785423279}\n",
            "{'step': 189, 'train_loss': 0.019346008077263832, 'total_steps': 201, 'train_mean_token_accuracy': 1.0}\n",
            "{'step': 188, 'train_loss': 0.03294379264116287, 'total_steps': 201, 'train_mean_token_accuracy': 1.0}\n",
            "{'step': 187, 'train_loss': 0.05457565188407898, 'total_steps': 201, 'train_mean_token_accuracy': 0.9599999785423279}\n",
            "{'step': 186, 'train_loss': 2.288818359375e-05, 'total_steps': 201, 'train_mean_token_accuracy': 1.0}\n",
            "{'step': 185, 'train_loss': 0.016404494643211365, 'total_steps': 201, 'train_mean_token_accuracy': 1.0}\n",
            "{'step': 184, 'train_loss': 0.13315384089946747, 'total_steps': 201, 'train_mean_token_accuracy': 0.9615384340286255}\n",
            "{'step': 183, 'train_loss': 0.03215669095516205, 'total_steps': 201, 'train_mean_token_accuracy': 1.0}\n",
            "{'step': 182, 'train_loss': 0.05361228808760643, 'total_steps': 201, 'train_mean_token_accuracy': 0.9599999785423279}\n",
            "{'step': 181, 'train_loss': 0.011057047173380852, 'total_steps': 201, 'train_mean_token_accuracy': 1.0}\n",
            "{'step': 180, 'train_loss': 0.08433716744184494, 'total_steps': 201, 'train_mean_token_accuracy': 0.9629629850387573}\n",
            "{'step': 179, 'train_loss': 3.284878039266914e-05, 'total_steps': 201, 'train_mean_token_accuracy': 1.0}\n",
            "{'step': 178, 'train_loss': 0.04656050726771355, 'total_steps': 201, 'train_mean_token_accuracy': 0.9615384340286255}\n",
            "{'step': 177, 'train_loss': 0.06879285722970963, 'total_steps': 201, 'train_mean_token_accuracy': 0.9615384340286255}\n",
            "{'step': 176, 'train_loss': 4.139652810408734e-05, 'total_steps': 201, 'train_mean_token_accuracy': 1.0}\n",
            "{'step': 175, 'train_loss': 0.07003280520439148, 'total_steps': 201, 'train_mean_token_accuracy': 1.0}\n",
            "{'step': 174, 'train_loss': 0.024578608572483063, 'total_steps': 201, 'train_mean_token_accuracy': 1.0}\n",
            "{'step': 173, 'train_loss': 4.740114673040807e-05, 'total_steps': 201, 'train_mean_token_accuracy': 1.0}\n",
            "{'step': 172, 'train_loss': 0.03185897693037987, 'total_steps': 201, 'train_mean_token_accuracy': 1.0}\n",
            "{'step': 171, 'train_loss': 0.12917985022068024, 'total_steps': 201, 'train_mean_token_accuracy': 0.9259259104728699}\n",
            "{'step': 170, 'train_loss': 0.025381164625287056, 'total_steps': 201, 'train_mean_token_accuracy': 1.0}\n",
            "{'step': 169, 'train_loss': 0.3052118122577667, 'total_steps': 201, 'train_mean_token_accuracy': 0.9230769276618958}\n",
            "{'step': 168, 'train_loss': 0.13913866877555847, 'total_steps': 201, 'train_mean_token_accuracy': 0.9615384340286255}\n",
            "{'step': 167, 'train_loss': 0.06926246732473373, 'total_steps': 201, 'train_mean_token_accuracy': 0.9629629850387573}\n",
            "{'step': 166, 'train_loss': 0.04207656905055046, 'total_steps': 201, 'train_mean_token_accuracy': 0.9599999785423279}\n",
            "{'step': 165, 'train_loss': 0.015315736643970013, 'total_steps': 201, 'train_mean_token_accuracy': 1.0}\n",
            "{'step': 164, 'train_loss': 0.05141143873333931, 'total_steps': 201, 'train_mean_token_accuracy': 0.9599999785423279}\n",
            "{'step': 163, 'train_loss': 0.03211304172873497, 'total_steps': 201, 'train_mean_token_accuracy': 0.9629629850387573}\n",
            "{'step': 162, 'train_loss': 0.02904423139989376, 'total_steps': 201, 'train_mean_token_accuracy': 1.0}\n",
            "{'step': 161, 'train_loss': 0.041279058903455734, 'total_steps': 201, 'train_mean_token_accuracy': 0.9615384340286255}\n",
            "{'step': 160, 'train_loss': 0.38566961884498596, 'total_steps': 201, 'train_mean_token_accuracy': 0.9200000166893005}\n",
            "{'step': 159, 'train_loss': 0.3666348159313202, 'total_steps': 201, 'train_mean_token_accuracy': 0.8799999952316284}\n",
            "{'step': 158, 'train_loss': 0.07087622582912445, 'total_steps': 201, 'train_mean_token_accuracy': 0.9629629850387573}\n",
            "{'step': 157, 'train_loss': 0.043043870478868484, 'total_steps': 201, 'train_mean_token_accuracy': 0.9615384340286255}\n",
            "{'step': 156, 'train_loss': 0.045953597873449326, 'total_steps': 201, 'train_mean_token_accuracy': 0.9599999785423279}\n",
            "{'step': 155, 'train_loss': 0.08459518104791641, 'total_steps': 201, 'train_mean_token_accuracy': 0.9599999785423279}\n",
            "{'step': 154, 'train_loss': 0.03357755392789841, 'total_steps': 201, 'train_mean_token_accuracy': 1.0}\n",
            "{'step': 153, 'train_loss': 0.041160713881254196, 'total_steps': 201, 'train_mean_token_accuracy': 0.9655172228813171}\n",
            "{'step': 152, 'train_loss': 0.15962684154510498, 'total_steps': 201, 'train_mean_token_accuracy': 0.9200000166893005}\n",
            "{'step': 151, 'train_loss': 0.10761699080467224, 'total_steps': 201, 'train_mean_token_accuracy': 0.9259259104728699}\n",
            "{'step': 150, 'train_loss': 0.02559625171124935, 'total_steps': 201, 'train_mean_token_accuracy': 1.0}\n",
            "{'step': 149, 'train_loss': 0.04224197939038277, 'total_steps': 201, 'train_mean_token_accuracy': 1.0}\n",
            "{'step': 148, 'train_loss': 0.060147251933813095, 'total_steps': 201, 'train_mean_token_accuracy': 0.9629629850387573}\n",
            "{'step': 147, 'train_loss': 0.0002048633759841323, 'total_steps': 201, 'train_mean_token_accuracy': 1.0}\n",
            "{'step': 146, 'train_loss': 0.055504411458969116, 'total_steps': 201, 'train_mean_token_accuracy': 0.9629629850387573}\n",
            "{'step': 145, 'train_loss': 0.01572573557496071, 'total_steps': 201, 'train_mean_token_accuracy': 1.0}\n",
            "{'step': 144, 'train_loss': 0.0012496665585786104, 'total_steps': 201, 'train_mean_token_accuracy': 1.0}\n",
            "{'step': 143, 'train_loss': 0.11568479239940643, 'total_steps': 201, 'train_mean_token_accuracy': 0.9259259104728699}\n",
            "{'step': 142, 'train_loss': 0.05793309956789017, 'total_steps': 201, 'train_mean_token_accuracy': 0.9629629850387573}\n",
            "{'step': 141, 'train_loss': 0.041439056396484375, 'total_steps': 201, 'train_mean_token_accuracy': 0.9599999785423279}\n",
            "{'step': 140, 'train_loss': 0.040748171508312225, 'total_steps': 201, 'train_mean_token_accuracy': 0.9629629850387573}\n",
            "{'step': 139, 'train_loss': 0.09822625666856766, 'total_steps': 201, 'train_mean_token_accuracy': 0.9230769276618958}\n",
            "{'step': 138, 'train_loss': 0.0006968180532567203, 'total_steps': 201, 'train_mean_token_accuracy': 1.0}\n",
            "{'step': 137, 'train_loss': 0.09514137357473373, 'total_steps': 201, 'train_mean_token_accuracy': 0.9629629850387573}\n",
            "{'step': 136, 'train_loss': 0.09070337563753128, 'total_steps': 201, 'train_mean_token_accuracy': 0.9615384340286255}\n",
            "{'step': 135, 'train_loss': 0.09883814305067062, 'total_steps': 201, 'train_mean_token_accuracy': 0.9230769276618958}\n",
            "{'step': 134, 'train_loss': 0.017313003540039062, 'total_steps': 201, 'train_mean_token_accuracy': 1.0}\n",
            "{'step': 133, 'train_loss': 0.21000465750694275, 'total_steps': 201, 'train_mean_token_accuracy': 0.8799999952316284}\n",
            "{'step': 132, 'train_loss': 0.09464872628450394, 'total_steps': 201, 'train_mean_token_accuracy': 0.9615384340286255}\n",
            "{'step': 131, 'train_loss': 0.03735344484448433, 'total_steps': 201, 'train_mean_token_accuracy': 1.0}\n",
            "{'step': 130, 'train_loss': 0.08134812861680984, 'total_steps': 201, 'train_mean_token_accuracy': 0.9615384340286255}\n",
            "{'step': 129, 'train_loss': 0.0006264580879360437, 'total_steps': 201, 'train_mean_token_accuracy': 1.0}\n",
            "{'step': 128, 'train_loss': 0.0972539484500885, 'total_steps': 201, 'train_mean_token_accuracy': 0.9599999785423279}\n",
            "{'step': 127, 'train_loss': 0.12682056427001953, 'total_steps': 201, 'train_mean_token_accuracy': 0.9615384340286255}\n",
            "{'step': 126, 'train_loss': 0.013320482335984707, 'total_steps': 201, 'train_mean_token_accuracy': 1.0}\n",
            "{'step': 125, 'train_loss': 0.016910094767808914, 'total_steps': 201, 'train_mean_token_accuracy': 1.0}\n",
            "{'step': 124, 'train_loss': 0.06860756129026413, 'total_steps': 201, 'train_mean_token_accuracy': 0.9599999785423279}\n",
            "{'step': 123, 'train_loss': 0.11554227769374847, 'total_steps': 201, 'train_mean_token_accuracy': 0.9642857313156128}\n",
            "{'step': 122, 'train_loss': 0.1275331825017929, 'total_steps': 201, 'train_mean_token_accuracy': 0.9200000166893005}\n",
            "{'step': 121, 'train_loss': 0.019355986267328262, 'total_steps': 201, 'train_mean_token_accuracy': 1.0}\n",
            "{'step': 120, 'train_loss': 0.1579401195049286, 'total_steps': 201, 'train_mean_token_accuracy': 0.8888888955116272}\n",
            "{'step': 119, 'train_loss': 0.17486847937107086, 'total_steps': 201, 'train_mean_token_accuracy': 0.9259259104728699}\n",
            "{'step': 118, 'train_loss': 0.48592308163642883, 'total_steps': 201, 'train_mean_token_accuracy': 0.8399999737739563}\n",
            "{'step': 117, 'train_loss': 0.00230450090020895, 'total_steps': 201, 'train_mean_token_accuracy': 1.0}\n",
            "{'step': 116, 'train_loss': 0.07053474336862564, 'total_steps': 201, 'train_mean_token_accuracy': 0.9599999785423279}\n",
            "{'step': 115, 'train_loss': 0.11427702754735947, 'total_steps': 201, 'train_mean_token_accuracy': 0.9629629850387573}\n",
            "{'step': 114, 'train_loss': 0.06215608865022659, 'total_steps': 201, 'train_mean_token_accuracy': 0.9615384340286255}\n",
            "{'step': 113, 'train_loss': 0.006319752428680658, 'total_steps': 201, 'train_mean_token_accuracy': 1.0}\n",
            "{'step': 112, 'train_loss': 0.006418722681701183, 'total_steps': 201, 'train_mean_token_accuracy': 1.0}\n",
            "{'step': 111, 'train_loss': 0.08343969285488129, 'total_steps': 201, 'train_mean_token_accuracy': 0.9642857313156128}\n",
            "{'step': 110, 'train_loss': 0.23829354345798492, 'total_steps': 201, 'train_mean_token_accuracy': 0.9629629850387573}\n",
            "{'step': 109, 'train_loss': 0.1514056921005249, 'total_steps': 201, 'train_mean_token_accuracy': 0.9629629850387573}\n",
            "{'step': 108, 'train_loss': 0.07675018161535263, 'total_steps': 201, 'train_mean_token_accuracy': 0.9599999785423279}\n",
            "{'step': 107, 'train_loss': 0.06569419801235199, 'total_steps': 201, 'train_mean_token_accuracy': 0.9599999785423279}\n",
            "{'step': 106, 'train_loss': 0.038312189280986786, 'total_steps': 201, 'train_mean_token_accuracy': 0.9655172228813171}\n"
          ]
        }
      ],
      "source": [
        "steps = []\n",
        "\n",
        "train_loss =[]\n",
        "\n",
        "for e in events:\n",
        "  if(e.data):\n",
        "    print(e.data)"
      ]
    },
    {
      "cell_type": "code",
      "execution_count": 41,
      "metadata": {
        "colab": {
          "base_uri": "https://localhost:8080/"
        },
        "id": "FsNq8VQljLZa",
        "outputId": "357f4ccd-1e23-45e8-fb60-3306d6b3ae7c"
      },
      "outputs": [
        {
          "name": "stdout",
          "output_type": "stream",
          "text": [
            "[201, 200, 199, 198, 197, 196, 195, 194, 193, 192, 191, 190, 189, 188, 187, 186, 185, 184, 183, 182, 181, 180, 179, 178, 177, 176, 175, 174, 173, 172, 171, 170, 169, 168, 167, 166, 165, 164, 163, 162, 161, 160, 159, 158, 157, 156, 155, 154, 153, 152, 151, 150, 149, 148, 147, 146, 145, 144, 143, 142, 141, 140, 139, 138, 137, 136, 135, 134, 133, 132, 131, 130, 129, 128, 127, 126, 125, 124, 123, 122, 121, 120, 119, 118, 117, 116, 115, 114, 113, 112, 111, 110, 109, 108, 107, 106]\n",
            "[0.09889554977416992, 0.2666339874267578, 0.03480415418744087, 1.5188146790023893e-05, 0.09169994294643402, 0.04409042373299599, 0.02971464954316616, 0.0982445627450943, 0.011003494262695312, 0.026835661381483078, 0.10847875475883484, 0.03897567838430405, 0.019346008077263832, 0.03294379264116287, 0.05457565188407898, 2.288818359375e-05, 0.016404494643211365, 0.13315384089946747, 0.03215669095516205, 0.05361228808760643, 0.011057047173380852, 0.08433716744184494, 3.284878039266914e-05, 0.04656050726771355, 0.06879285722970963, 4.139652810408734e-05, 0.07003280520439148, 0.024578608572483063, 4.740114673040807e-05, 0.03185897693037987, 0.12917985022068024, 0.025381164625287056, 0.3052118122577667, 0.13913866877555847, 0.06926246732473373, 0.04207656905055046, 0.015315736643970013, 0.05141143873333931, 0.03211304172873497, 0.02904423139989376, 0.041279058903455734, 0.38566961884498596, 0.3666348159313202, 0.07087622582912445, 0.043043870478868484, 0.045953597873449326, 0.08459518104791641, 0.03357755392789841, 0.041160713881254196, 0.15962684154510498, 0.10761699080467224, 0.02559625171124935, 0.04224197939038277, 0.060147251933813095, 0.0002048633759841323, 0.055504411458969116, 0.01572573557496071, 0.0012496665585786104, 0.11568479239940643, 0.05793309956789017, 0.041439056396484375, 0.040748171508312225, 0.09822625666856766, 0.0006968180532567203, 0.09514137357473373, 0.09070337563753128, 0.09883814305067062, 0.017313003540039062, 0.21000465750694275, 0.09464872628450394, 0.03735344484448433, 0.08134812861680984, 0.0006264580879360437, 0.0972539484500885, 0.12682056427001953, 0.013320482335984707, 0.016910094767808914, 0.06860756129026413, 0.11554227769374847, 0.1275331825017929, 0.019355986267328262, 0.1579401195049286, 0.17486847937107086, 0.48592308163642883, 0.00230450090020895, 0.07053474336862564, 0.11427702754735947, 0.06215608865022659, 0.006319752428680658, 0.006418722681701183, 0.08343969285488129, 0.23829354345798492, 0.1514056921005249, 0.07675018161535263, 0.06569419801235199, 0.038312189280986786]\n"
          ]
        }
      ],
      "source": [
        "for e in events:\n",
        "  if(e.data):\n",
        "    steps.append(e.data['step'])\n",
        "    train_loss.append(e.data['train_loss'])\n",
        "\n",
        "print(steps)\n",
        "print(train_loss)"
      ]
    },
    {
      "cell_type": "markdown",
      "metadata": {
        "id": "iiiJIUuq2W4D"
      },
      "source": [
        "Use a line chart to visualize the train_loss in each step"
      ]
    },
    {
      "cell_type": "code",
      "execution_count": 42,
      "metadata": {
        "colab": {
          "base_uri": "https://localhost:8080/",
          "height": 466
        },
        "id": "EMRvEd-F2bLO",
        "outputId": "20dd5008-a4b3-4dcb-b5d4-4b92e7802c0b"
      },
      "outputs": [
        {
          "data": {
            "text/plain": [
              "Text(0, 0.5, 'Train Loss')"
            ]
          },
          "execution_count": 42,
          "metadata": {},
          "output_type": "execute_result"
        },
        {
          "data": {
            "image/png": "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",
            "text/plain": [
              "<Figure size 640x480 with 1 Axes>"
            ]
          },
          "metadata": {},
          "output_type": "display_data"
        }
      ],
      "source": [
        "plt.plot (  steps, train_loss, marker='o', linestyle='-')\n",
        "plt.xlabel('Steps')\n",
        "plt.ylabel('Train Loss')\n"
      ]
    },
    {
      "cell_type": "markdown",
      "metadata": {
        "id": "8lGyZnvk25q9"
      },
      "source": [
        "### Task 5 - Deploy our model"
      ]
    },
    {
      "cell_type": "markdown",
      "metadata": {
        "id": "EYljL-wH42ce"
      },
      "source": [
        "Let's take a look at `retrieved_job` again"
      ]
    },
    {
      "cell_type": "code",
      "execution_count": 43,
      "metadata": {
        "colab": {
          "base_uri": "https://localhost:8080/"
        },
        "id": "q4ChDCWo3H85",
        "outputId": "3acd0021-4ab3-4db5-ad3c-2840dd82dcbb"
      },
      "outputs": [
        {
          "name": "stdout",
          "output_type": "stream",
          "text": [
            "ft:gpt-3.5-turbo-0125:personal::BOLn6ykZ\n"
          ]
        }
      ],
      "source": [
        "llm =retrive_job.fine_tuned_model\n",
        "\n",
        "print(llm)"
      ]
    },
    {
      "cell_type": "markdown",
      "metadata": {
        "id": "nLLfuwC4-h9K"
      },
      "source": [
        "Defining a method to extract information from a given user complaint using a specific LLM and return the results."
      ]
    },
    {
      "cell_type": "code",
      "execution_count": 44,
      "metadata": {
        "id": "P3_99_Hf5CV1"
      },
      "outputs": [],
      "source": [
        "def extract_details(user_complaint, model_name):\n",
        "    \"\"\"\n",
        "    This function extracts information from a given user complaint using a specific LLM (Large Language Model).\n",
        "\n",
        "    Parameters:\n",
        "    user_complaint (str): The text of the user's complaint.\n",
        "    model_name (str): The name of the specific LLM model to use for extraction.\n",
        "    \"\"\"\n",
        "\n",
        "    system_content = \"\"\"\n",
        "        Given a customer complaint text, extract and return the following information in JSON (dict) format:\n",
        "        - Topic\n",
        "        - Problem\n",
        "        - Customer_Dissatisfaction_Index\n",
        "    \"\"\"\n",
        "\n",
        "    # Generate a response using the specified model and the user's complaint\n",
        "    response = client.chat.completions.create(\n",
        "        model = model_name,\n",
        "        messages=[\n",
        "            {\"role\": \"system\", \"content\": system_content},  # System content explaining the expected output\n",
        "            {\"role\": \"user\", \"content\": user_complaint}  # User's complaint passed as content\n",
        "        ]\n",
        "    )\n",
        "\n",
        "    # Return the content of the generated response\n",
        "    return response.choices[0].message.content\n"
      ]
    },
    {
      "cell_type": "markdown",
      "metadata": {
        "id": "zE_O2zAwplof"
      },
      "source": [
        "Let's use our fine-tuned model to extract the details for the following user complaint:\n",
        "\n",
        "*TV channels keep disappearing from my subscription! What's going on? Extremely annoyed with this service!*"
      ]
    },
    {
      "cell_type": "code",
      "execution_count": 48,
      "metadata": {
        "colab": {
          "base_uri": "https://localhost:8080/",
          "height": 35
        },
        "id": "vD1dEjnzWTuw",
        "outputId": "6f512c59-60ba-4770-9945-4e13e2b6cbef"
      },
      "outputs": [
        {
          "data": {
            "application/vnd.google.colaboratory.intrinsic+json": {
              "type": "string"
            },
            "text/plain": [
              "'{\"Topic\": \"TV\", \"Problem\": \"Channels keep disappearing\", \"Customer_Dissatisfaction_Index\": 10}'"
            ]
          },
          "execution_count": 48,
          "metadata": {},
          "output_type": "execute_result"
        }
      ],
      "source": [
        "complaint = \"TV channels keep disappearing from my subscription! What's going on? Extremely annoyed with this service!\"\n",
        "\n",
        "extract_details(complaint, llm)"
      ]
    },
    {
      "cell_type": "markdown",
      "metadata": {
        "id": "LJNgLZoS6-gw"
      },
      "source": [
        "Let's test our `GPT-4` model with the same user complaint"
      ]
    },
    {
      "cell_type": "code",
      "execution_count": 49,
      "metadata": {
        "colab": {
          "base_uri": "https://localhost:8080/",
          "height": 35
        },
        "id": "G2XBuw0N47AC",
        "outputId": "7d449520-2967-4c6d-83f6-49632e2cfb65"
      },
      "outputs": [
        {
          "data": {
            "application/vnd.google.colaboratory.intrinsic+json": {
              "type": "string"
            },
            "text/plain": [
              "'{\\n  \"Topic\": \"TV Service\",\\n  \"Problem\": \"Channels keep disappearing from subscription\",\\n  \"Customer_Dissatisfaction_Index\": \"High\"\\n}'"
            ]
          },
          "execution_count": 49,
          "metadata": {},
          "output_type": "execute_result"
        }
      ],
      "source": [
        "extract_details(complaint, 'gpt-4')"
      ]
    },
    {
      "cell_type": "markdown",
      "metadata": {
        "id": "J3xZBAUitpVq"
      },
      "source": [
        "Let's try for the following complaint:\n",
        "\n",
        "*Line is down! It is really annoying!*"
      ]
    },
    {
      "cell_type": "code",
      "execution_count": 51,
      "metadata": {
        "colab": {
          "base_uri": "https://localhost:8080/",
          "height": 35
        },
        "id": "I3O6HzK_ttZ7",
        "outputId": "97b6be8b-bcf5-431e-9124-a086ddd42905"
      },
      "outputs": [
        {
          "data": {
            "application/vnd.google.colaboratory.intrinsic+json": {
              "type": "string"
            },
            "text/plain": [
              "'{\"Topic\": \"Internet\", \"Problem\": \"Connection\", \"Customer_Dissatisfaction_Index\": 5}'"
            ]
          },
          "execution_count": 51,
          "metadata": {},
          "output_type": "execute_result"
        }
      ],
      "source": [
        "complaint = \"Line is down! It is really annoying!\"\n",
        "\n",
        "extract_details(complaint, llm)"
      ]
    },
    {
      "cell_type": "markdown",
      "metadata": {
        "id": "W4zeLRZfuNmS"
      },
      "source": [
        "Now let's compare the results from GPT-4"
      ]
    },
    {
      "cell_type": "code",
      "execution_count": 52,
      "metadata": {
        "colab": {
          "base_uri": "https://localhost:8080/",
          "height": 35
        },
        "id": "6ubUkjXXuQ8X",
        "outputId": "f39f10e5-47bd-4988-b2bf-4498d0868f32"
      },
      "outputs": [
        {
          "data": {
            "application/vnd.google.colaboratory.intrinsic+json": {
              "type": "string"
            },
            "text/plain": [
              "'{\\n    \"Topic\": \"Line Issue\",\\n    \"Problem\": \"Line is down\",\\n    \"Customer_Dissatisfaction_Index\": \"High\"\\n}'"
            ]
          },
          "execution_count": 52,
          "metadata": {},
          "output_type": "execute_result"
        }
      ],
      "source": [
        "complaint = \"Line is down! It is really annoying!\"\n",
        "\n",
        "extract_details(complaint, 'gpt-4')"
      ]
    },
    {
      "cell_type": "markdown",
      "metadata": {
        "id": "YvqSymjWueXu"
      },
      "source": [
        "We can see that our model, which is trained on our dataset, provides better answers compared to GPT-4. Our model is fine-tuned based on our data and is familiar with the different edge cases and the context of our dataset."
      ]
    },
    {
      "cell_type": "code",
      "execution_count": 53,
      "metadata": {
        "colab": {
          "base_uri": "https://localhost:8080/",
          "height": 35
        },
        "id": "wVQQfAAXy-v8",
        "outputId": "9f60bea5-bc1a-4990-df7a-c007f9896e82"
      },
      "outputs": [
        {
          "data": {
            "application/vnd.google.colaboratory.intrinsic+json": {
              "type": "string"
            },
            "text/plain": [
              "'{\"Topic\": \"Payments\", \"Problem\": \"Refund\", \"Customer_Dissatisfaction_Index\": 10}'"
            ]
          },
          "execution_count": 53,
          "metadata": {},
          "output_type": "execute_result"
        }
      ],
      "source": [
        "customer_complaint = \"I am very Angry! I want my money back!\"\n",
        "\n",
        "extract_details(customer_complaint, llm)"
      ]
    },
    {
      "cell_type": "code",
      "execution_count": 54,
      "metadata": {
        "colab": {
          "base_uri": "https://localhost:8080/",
          "height": 35
        },
        "id": "3Cdx3k8Mqp3T",
        "outputId": "2e416f3c-4294-40f8-ad41-81b9505d0ce8"
      },
      "outputs": [
        {
          "data": {
            "application/vnd.google.colaboratory.intrinsic+json": {
              "type": "string"
            },
            "text/plain": [
              "'{\\n  \"Topic\": \"Service Disruption\",\\n  \"Problem\": \"Customer\\'s line is down\",\\n  \"Customer_Dissatisfaction_Index\": \"High\"\\n}'"
            ]
          },
          "execution_count": 54,
          "metadata": {},
          "output_type": "execute_result"
        }
      ],
      "source": [
        "complaint = \"Line is down! It is really annoying!\"\n",
        "\n",
        "extract_details(complaint, 'gpt-4')"
      ]
    },
    {
      "cell_type": "code",
      "execution_count": 55,
      "metadata": {
        "colab": {
          "base_uri": "https://localhost:8080/"
        },
        "id": "9P60Mj2_r3Qj",
        "outputId": "6dd5cffd-dfb0-42d0-f9c1-a1a87a61d3ef"
      },
      "outputs": [
        {
          "data": {
            "text/plain": [
              "FineTuningJob(id='ftjob-BkB9iryx32zB2QXpqEl4qGnF', created_at=1745138213, error=Error(code=None, message=None, param=None), fine_tuned_model='ft:gpt-3.5-turbo-0125:personal::BOKXM9WC', finished_at=1745138515, hyperparameters=Hyperparameters(batch_size=1, learning_rate_multiplier=2.0, n_epochs=1), model='gpt-3.5-turbo-0125', object='fine_tuning.job', organization_id='org-c8T7bCnQ7TKP6YfiSBCOuo8l', result_files=['file-Cm99c5ZMm7zuPiBGBG8u51'], seed=1884911540, status='succeeded', trained_tokens=9052, training_file='file-G9mgTG1bvotB7DpfZB7Kjs', validation_file=None, estimated_finish=None, integrations=[], metadata=None, method=Method(dpo=None, supervised=MethodSupervised(hyperparameters=MethodSupervisedHyperparameters(batch_size=1, learning_rate_multiplier=2.0, n_epochs=1)), type='supervised'), user_provided_suffix=None)"
            ]
          },
          "execution_count": 55,
          "metadata": {},
          "output_type": "execute_result"
        }
      ],
      "source": [
        "# Retrieving the list of fine-tuning jobs from the OpenAI client\n",
        "fine_tuning_jobs = list(client.fine_tuning.jobs.list())\n",
        "\n",
        "# Selecting the latest fine-tuning job from the list\n",
        "latest_job = fine_tuning_jobs[-1]\n",
        "latest_job"
      ]
    },
    {
      "cell_type": "code",
      "execution_count": 60,
      "metadata": {
        "colab": {
          "base_uri": "https://localhost:8080/"
        },
        "id": "nAfH8mVSr7EF",
        "outputId": "69da807e-9419-41b9-9f79-a4230db7e4be"
      },
      "outputs": [
        {
          "name": "stdout",
          "output_type": "stream",
          "text": [
            "[FineTuningJobEvent(id='ftevent-aJvFN03rVkjboG3KIoipTVy6', created_at=1745138521, level='info', message='The job has successfully completed', object='fine_tuning.job.event', data={}, type='message'), FineTuningJobEvent(id='ftevent-Ca5NMjfWaRyGXDXJtCDa4FPE', created_at=1745138517, level='info', message='New fine-tuned model created', object='fine_tuning.job.event', data={}, type='message'), FineTuningJobEvent(id='ftevent-2Wcf85MdYf0RqjZLNTIU59Y4', created_at=1745138479, level='info', message='Step 67/67: training loss=0.13', object='fine_tuning.job.event', data={'step': 67, 'train_loss': 0.13015761971473694, 'total_steps': 67, 'train_mean_token_accuracy': 0.9230769276618958}, type='metrics'), FineTuningJobEvent(id='ftevent-VPLDXfawaTKMRgHpRnwOIyIa', created_at=1745138479, level='info', message='Step 66/67: training loss=0.16', object='fine_tuning.job.event', data={'step': 66, 'train_loss': 0.15624786913394928, 'total_steps': 67, 'train_mean_token_accuracy': 0.8799999952316284}, type='metrics'), FineTuningJobEvent(id='ftevent-HWhzqSNo1aLrI0oLNnVN7epi', created_at=1745138476, level='info', message='Step 65/67: training loss=0.12', object='fine_tuning.job.event', data={'step': 65, 'train_loss': 0.12385030835866928, 'total_steps': 67, 'train_mean_token_accuracy': 0.9615384340286255}, type='metrics'), FineTuningJobEvent(id='ftevent-Xa6N0j4wOKb8vnVGDlFn1TKD', created_at=1745138476, level='info', message='Step 64/67: training loss=0.12', object='fine_tuning.job.event', data={'step': 64, 'train_loss': 0.12152339518070221, 'total_steps': 67, 'train_mean_token_accuracy': 0.9629629850387573}, type='metrics'), FineTuningJobEvent(id='ftevent-N55ZIVyckow2ErFsRhFRr7Fw', created_at=1745138473, level='info', message='Step 63/67: training loss=0.13', object='fine_tuning.job.event', data={'step': 63, 'train_loss': 0.13303238153457642, 'total_steps': 67, 'train_mean_token_accuracy': 0.9200000166893005}, type='metrics'), FineTuningJobEvent(id='ftevent-KSyyVzbpPvYuoy9cLJcdUG4c', created_at=1745138473, level='info', message='Step 62/67: training loss=0.06', object='fine_tuning.job.event', data={'step': 62, 'train_loss': 0.05948702618479729, 'total_steps': 67, 'train_mean_token_accuracy': 1.0}, type='metrics'), FineTuningJobEvent(id='ftevent-aO8BTMbRqsxmrOMXDMcZNSgn', created_at=1745138471, level='info', message='Step 61/67: training loss=0.04', object='fine_tuning.job.event', data={'step': 61, 'train_loss': 0.039206210523843765, 'total_steps': 67, 'train_mean_token_accuracy': 0.9655172228813171}, type='metrics'), FineTuningJobEvent(id='ftevent-MBfxEGzkzLUDhH6VYUv697O2', created_at=1745138470, level='info', message='Step 60/67: training loss=0.13', object='fine_tuning.job.event', data={'step': 60, 'train_loss': 0.12789662182331085, 'total_steps': 67, 'train_mean_token_accuracy': 0.9629629850387573}, type='metrics'), FineTuningJobEvent(id='ftevent-LvsHRkcYNVfmxr0QzMAdbMXG', created_at=1745138468, level='info', message='Step 59/67: training loss=0.09', object='fine_tuning.job.event', data={'step': 59, 'train_loss': 0.08795066922903061, 'total_steps': 67, 'train_mean_token_accuracy': 0.9599999785423279}, type='metrics'), FineTuningJobEvent(id='ftevent-OvU9K0k3jNnS3Zbh6LTRogkY', created_at=1745138468, level='info', message='Step 58/67: training loss=0.04', object='fine_tuning.job.event', data={'step': 58, 'train_loss': 0.035786744207143784, 'total_steps': 67, 'train_mean_token_accuracy': 1.0}, type='metrics'), FineTuningJobEvent(id='ftevent-pIhejp3OnESGa0iDFeR3qpB7', created_at=1745138465, level='info', message='Step 57/67: training loss=0.09', object='fine_tuning.job.event', data={'step': 57, 'train_loss': 0.09164764732122421, 'total_steps': 67, 'train_mean_token_accuracy': 0.9599999785423279}, type='metrics'), FineTuningJobEvent(id='ftevent-c2GxrswBWjv8NsJ2dgkfmNSu', created_at=1745138465, level='info', message='Step 56/67: training loss=0.24', object='fine_tuning.job.event', data={'step': 56, 'train_loss': 0.23676320910453796, 'total_steps': 67, 'train_mean_token_accuracy': 0.9629629850387573}, type='metrics'), FineTuningJobEvent(id='ftevent-zIN64Fqzt4Up0Dwota6CuhhD', created_at=1745138462, level='info', message='Step 55/67: training loss=0.73', object='fine_tuning.job.event', data={'step': 55, 'train_loss': 0.731590747833252, 'total_steps': 67, 'train_mean_token_accuracy': 0.8518518805503845}, type='metrics'), FineTuningJobEvent(id='ftevent-bMtSEjHD8LdGuPuHWyRJGHNh', created_at=1745138462, level='info', message='Step 54/67: training loss=0.21', object='fine_tuning.job.event', data={'step': 54, 'train_loss': 0.2082979530096054, 'total_steps': 67, 'train_mean_token_accuracy': 0.9615384340286255}, type='metrics'), FineTuningJobEvent(id='ftevent-pewyTBTREpl4Jn44jrwx8ola', created_at=1745138459, level='info', message='Step 53/67: training loss=0.06', object='fine_tuning.job.event', data={'step': 53, 'train_loss': 0.062087398022413254, 'total_steps': 67, 'train_mean_token_accuracy': 0.9642857313156128}, type='metrics'), FineTuningJobEvent(id='ftevent-PPbgeI10BEzKQaXQbCucn7qI', created_at=1745138459, level='info', message='Step 52/67: training loss=0.75', object='fine_tuning.job.event', data={'step': 52, 'train_loss': 0.7481637001037598, 'total_steps': 67, 'train_mean_token_accuracy': 0.8518518805503845}, type='metrics'), FineTuningJobEvent(id='ftevent-kYROQdj8eOy2q86S71uiaQ5u', created_at=1745138459, level='info', message='Step 51/67: training loss=0.10', object='fine_tuning.job.event', data={'step': 51, 'train_loss': 0.09576152265071869, 'total_steps': 67, 'train_mean_token_accuracy': 0.9615384340286255}, type='metrics'), FineTuningJobEvent(id='ftevent-T9wA8bpblr7SNH28xuANBty2', created_at=1745138456, level='info', message='Step 50/67: training loss=0.82', object='fine_tuning.job.event', data={'step': 50, 'train_loss': 0.8173323273658752, 'total_steps': 67, 'train_mean_token_accuracy': 0.8518518805503845}, type='metrics'), FineTuningJobEvent(id='ftevent-EfABMRlH4XIB6LPDMmTHKQSN', created_at=1745138454, level='info', message='Step 49/67: training loss=1.12', object='fine_tuning.job.event', data={'step': 49, 'train_loss': 1.1226389408111572, 'total_steps': 67, 'train_mean_token_accuracy': 0.7777777910232544}, type='metrics'), FineTuningJobEvent(id='ftevent-heK9o9BCXGLzR1W9EFFnBpcg', created_at=1745138454, level='info', message='Step 48/67: training loss=0.08', object='fine_tuning.job.event', data={'step': 48, 'train_loss': 0.08263298124074936, 'total_steps': 67, 'train_mean_token_accuracy': 0.9599999785423279}, type='metrics'), FineTuningJobEvent(id='ftevent-VDTQdkUn8rOi3sJrwyDoRJkZ', created_at=1745138451, level='info', message='Step 47/67: training loss=0.09', object='fine_tuning.job.event', data={'step': 47, 'train_loss': 0.09402388334274292, 'total_steps': 67, 'train_mean_token_accuracy': 0.9259259104728699}, type='metrics'), FineTuningJobEvent(id='ftevent-RFX6kaLpVq9t3geYP1Yn1RPb', created_at=1745138451, level='info', message='Step 46/67: training loss=0.05', object='fine_tuning.job.event', data={'step': 46, 'train_loss': 0.04949679598212242, 'total_steps': 67, 'train_mean_token_accuracy': 1.0}, type='metrics'), FineTuningJobEvent(id='ftevent-ECZe8Z3y24QDyh9kJmF2fbU9', created_at=1745138448, level='info', message='Step 45/67: training loss=0.19', object='fine_tuning.job.event', data={'step': 45, 'train_loss': 0.18993470072746277, 'total_steps': 67, 'train_mean_token_accuracy': 0.9259259104728699}, type='metrics'), FineTuningJobEvent(id='ftevent-aNJUgoySEmvM0w53BdZhWljJ', created_at=1745138448, level='info', message='Step 44/67: training loss=0.18', object='fine_tuning.job.event', data={'step': 44, 'train_loss': 0.18104124069213867, 'total_steps': 67, 'train_mean_token_accuracy': 0.9642857313156128}, type='metrics'), FineTuningJobEvent(id='ftevent-Rn8r0sa3NTmeL2a5z4DbT8KG', created_at=1745138448, level='info', message='Step 43/67: training loss=0.90', object='fine_tuning.job.event', data={'step': 43, 'train_loss': 0.8957907557487488, 'total_steps': 67, 'train_mean_token_accuracy': 0.8148148059844971}, type='metrics'), FineTuningJobEvent(id='ftevent-68MVGra56ktGGTLXKUAJVjB4', created_at=1745138445, level='info', message='Step 42/67: training loss=0.05', object='fine_tuning.job.event', data={'step': 42, 'train_loss': 0.052073363214731216, 'total_steps': 67, 'train_mean_token_accuracy': 1.0}, type='metrics'), FineTuningJobEvent(id='ftevent-xHFY9DqmqSFnoH89TdEZmjj7', created_at=1745138445, level='info', message='Step 41/67: training loss=0.07', object='fine_tuning.job.event', data={'step': 41, 'train_loss': 0.06963641941547394, 'total_steps': 67, 'train_mean_token_accuracy': 1.0}, type='metrics'), FineTuningJobEvent(id='ftevent-Aii0XglCvbSBgX8o9V9PEbSK', created_at=1745138442, level='info', message='Step 40/67: training loss=0.06', object='fine_tuning.job.event', data={'step': 40, 'train_loss': 0.0574771873652935, 'total_steps': 67, 'train_mean_token_accuracy': 1.0}, type='metrics'), FineTuningJobEvent(id='ftevent-ZjB9JZatvd1y82yEpL5acND3', created_at=1745138442, level='info', message='Step 39/67: training loss=0.24', object='fine_tuning.job.event', data={'step': 39, 'train_loss': 0.2352958470582962, 'total_steps': 67, 'train_mean_token_accuracy': 0.875}, type='metrics'), FineTuningJobEvent(id='ftevent-DJov2Yy11TbE7wg9MFufphPw', created_at=1745138440, level='info', message='Step 38/67: training loss=0.07', object='fine_tuning.job.event', data={'step': 38, 'train_loss': 0.07142394781112671, 'total_steps': 67, 'train_mean_token_accuracy': 1.0}, type='metrics'), FineTuningJobEvent(id='ftevent-qeheSGW8qjXLrQjyLUCDfJ7f', created_at=1745138440, level='info', message='Step 37/67: training loss=0.10', object='fine_tuning.job.event', data={'step': 37, 'train_loss': 0.100583516061306, 'total_steps': 67, 'train_mean_token_accuracy': 1.0}, type='metrics'), FineTuningJobEvent(id='ftevent-BAUX5dFp79JYLKQRJP3MDtCD', created_at=1745138437, level='info', message='Step 36/67: training loss=1.08', object='fine_tuning.job.event', data={'step': 36, 'train_loss': 1.0768057107925415, 'total_steps': 67, 'train_mean_token_accuracy': 0.8518518805503845}, type='metrics'), FineTuningJobEvent(id='ftevent-B4JyIl9ojmNi8qcdfYQBekKI', created_at=1745138437, level='info', message='Step 35/67: training loss=0.10', object='fine_tuning.job.event', data={'step': 35, 'train_loss': 0.10105737298727036, 'total_steps': 67, 'train_mean_token_accuracy': 0.9666666388511658}, type='metrics'), FineTuningJobEvent(id='ftevent-SuG4ryCYWlPdyv5d5sb24cSU', created_at=1745138434, level='info', message='Step 34/67: training loss=0.36', object='fine_tuning.job.event', data={'step': 34, 'train_loss': 0.36156782507896423, 'total_steps': 67, 'train_mean_token_accuracy': 0.8888888955116272}, type='metrics'), FineTuningJobEvent(id='ftevent-BJtxgVbVF8iwDKNyKgPLN0FF', created_at=1745138434, level='info', message='Step 33/67: training loss=0.15', object='fine_tuning.job.event', data={'step': 33, 'train_loss': 0.1545000821352005, 'total_steps': 67, 'train_mean_token_accuracy': 0.9615384340286255}, type='metrics'), FineTuningJobEvent(id='ftevent-LhSnqzxo8R9UB0Ix1EpyJal2', created_at=1745138431, level='info', message='Step 32/67: training loss=1.15', object='fine_tuning.job.event', data={'step': 32, 'train_loss': 1.1485916376113892, 'total_steps': 67, 'train_mean_token_accuracy': 0.8518518805503845}, type='metrics'), FineTuningJobEvent(id='ftevent-aOlZFIGJUUfRnXFGDk73FmTa', created_at=1745138431, level='info', message='Step 31/67: training loss=0.16', object='fine_tuning.job.event', data={'step': 31, 'train_loss': 0.15562713146209717, 'total_steps': 67, 'train_mean_token_accuracy': 0.9200000166893005}, type='metrics'), FineTuningJobEvent(id='ftevent-4z5v1ABzFvc0ObGPLgbYR3Su', created_at=1745138428, level='info', message='Step 30/67: training loss=0.09', object='fine_tuning.job.event', data={'step': 30, 'train_loss': 0.08552490174770355, 'total_steps': 67, 'train_mean_token_accuracy': 0.9642857313156128}, type='metrics'), FineTuningJobEvent(id='ftevent-1dqSHuTXUa32H5A0q0JjdXxd', created_at=1745138428, level='info', message='Step 29/67: training loss=0.24', object='fine_tuning.job.event', data={'step': 29, 'train_loss': 0.23661506175994873, 'total_steps': 67, 'train_mean_token_accuracy': 0.9200000166893005}, type='metrics'), FineTuningJobEvent(id='ftevent-kNLNL8ZAP6GeSEYTxyICa9mB', created_at=1745138425, level='info', message='Step 28/67: training loss=0.56', object='fine_tuning.job.event', data={'step': 28, 'train_loss': 0.5586725473403931, 'total_steps': 67, 'train_mean_token_accuracy': 0.8799999952316284}, type='metrics'), FineTuningJobEvent(id='ftevent-j7h6fAg8uxUGByeLIDWOAybz', created_at=1745138425, level='info', message='Step 27/67: training loss=0.08', object='fine_tuning.job.event', data={'step': 27, 'train_loss': 0.0786273181438446, 'total_steps': 67, 'train_mean_token_accuracy': 1.0}, type='metrics'), FineTuningJobEvent(id='ftevent-tj4nn0KVufD7Lyhcu5FteFnT', created_at=1745138423, level='info', message='Step 26/67: training loss=0.55', object='fine_tuning.job.event', data={'step': 26, 'train_loss': 0.5549933910369873, 'total_steps': 67, 'train_mean_token_accuracy': 0.8399999737739563}, type='metrics'), FineTuningJobEvent(id='ftevent-2l1TfzmgYLXvLEhZFMuSn525', created_at=1745138423, level='info', message='Step 25/67: training loss=1.38', object='fine_tuning.job.event', data={'step': 25, 'train_loss': 1.3777735233306885, 'total_steps': 67, 'train_mean_token_accuracy': 0.8518518805503845}, type='metrics'), FineTuningJobEvent(id='ftevent-23oyxJR55AIP3DhOEQcnWvpx', created_at=1745138420, level='info', message='Step 24/67: training loss=0.11', object='fine_tuning.job.event', data={'step': 24, 'train_loss': 0.10742589086294174, 'total_steps': 67, 'train_mean_token_accuracy': 0.9642857313156128}, type='metrics'), FineTuningJobEvent(id='ftevent-6xgTLY3fA5BAeBWhAxbIO68C', created_at=1745138420, level='info', message='Step 23/67: training loss=0.14', object='fine_tuning.job.event', data={'step': 23, 'train_loss': 0.1448986679315567, 'total_steps': 67, 'train_mean_token_accuracy': 0.9259259104728699}, type='metrics'), FineTuningJobEvent(id='ftevent-vIU7ob5hiB3kt1sPfn9pwcFg', created_at=1745138417, level='info', message='Step 22/67: training loss=0.38', object='fine_tuning.job.event', data={'step': 22, 'train_loss': 0.38489800691604614, 'total_steps': 67, 'train_mean_token_accuracy': 0.9200000166893005}, type='metrics'), FineTuningJobEvent(id='ftevent-xjLrSLlMLbdTkTdSj2E98TnK', created_at=1745138417, level='info', message='Step 21/67: training loss=0.28', object='fine_tuning.job.event', data={'step': 21, 'train_loss': 0.2778994143009186, 'total_steps': 67, 'train_mean_token_accuracy': 0.8888888955116272}, type='metrics'), FineTuningJobEvent(id='ftevent-sc4wwSz5qRE8i39jDADaNcxJ', created_at=1745138414, level='info', message='Step 20/67: training loss=0.25', object='fine_tuning.job.event', data={'step': 20, 'train_loss': 0.25283557176589966, 'total_steps': 67, 'train_mean_token_accuracy': 0.8846153616905212}, type='metrics'), FineTuningJobEvent(id='ftevent-5Uzmjr2EHeTVif6LgtzHlJee', created_at=1745138414, level='info', message='Step 19/67: training loss=0.12', object='fine_tuning.job.event', data={'step': 19, 'train_loss': 0.11689376831054688, 'total_steps': 67, 'train_mean_token_accuracy': 0.9629629850387573}, type='metrics'), FineTuningJobEvent(id='ftevent-2C4PkQntq2JG8zAI7V3cKSiK', created_at=1745138412, level='info', message='Step 18/67: training loss=0.24', object='fine_tuning.job.event', data={'step': 18, 'train_loss': 0.2443780153989792, 'total_steps': 67, 'train_mean_token_accuracy': 0.8846153616905212}, type='metrics'), FineTuningJobEvent(id='ftevent-Mqi3GSMQNPto73M0tIIizsSL', created_at=1745138411, level='info', message='Step 17/67: training loss=0.09', object='fine_tuning.job.event', data={'step': 17, 'train_loss': 0.08538862317800522, 'total_steps': 67, 'train_mean_token_accuracy': 1.0}, type='metrics'), FineTuningJobEvent(id='ftevent-knhUJ7z68oJHShtBqvukCwU6', created_at=1745138409, level='info', message='Step 16/67: training loss=0.22', object='fine_tuning.job.event', data={'step': 16, 'train_loss': 0.21697820723056793, 'total_steps': 67, 'train_mean_token_accuracy': 0.9259259104728699}, type='metrics'), FineTuningJobEvent(id='ftevent-oTMnhZSz8xVm40FKfWzwfa5a', created_at=1745138409, level='info', message='Step 15/67: training loss=0.25', object='fine_tuning.job.event', data={'step': 15, 'train_loss': 0.2511650323867798, 'total_steps': 67, 'train_mean_token_accuracy': 0.9230769276618958}, type='metrics'), FineTuningJobEvent(id='ftevent-Zr6eMByV1c1usmRseOhCn3y3', created_at=1745138406, level='info', message='Step 14/67: training loss=0.08', object='fine_tuning.job.event', data={'step': 14, 'train_loss': 0.08425389975309372, 'total_steps': 67, 'train_mean_token_accuracy': 0.9655172228813171}, type='metrics'), FineTuningJobEvent(id='ftevent-CDB52rrbbVhxgONFSNhVyfhr', created_at=1745138406, level='info', message='Step 13/67: training loss=1.89', object='fine_tuning.job.event', data={'step': 13, 'train_loss': 1.894889235496521, 'total_steps': 67, 'train_mean_token_accuracy': 0.7777777910232544}, type='metrics'), FineTuningJobEvent(id='ftevent-BaT97wfYulhLX0nmCxMtf5BE', created_at=1745138406, level='info', message='Step 12/67: training loss=0.85', object='fine_tuning.job.event', data={'step': 12, 'train_loss': 0.8516960740089417, 'total_steps': 67, 'train_mean_token_accuracy': 0.8461538553237915}, type='metrics'), FineTuningJobEvent(id='ftevent-fgP3zz9liq8lm2a7JWJyp14T', created_at=1745138403, level='info', message='Step 11/67: training loss=0.11', object='fine_tuning.job.event', data={'step': 11, 'train_loss': 0.11342107504606247, 'total_steps': 67, 'train_mean_token_accuracy': 0.9615384340286255}, type='metrics'), FineTuningJobEvent(id='ftevent-kUAAchmgtb4YxX0pygOGvzAW', created_at=1745138403, level='info', message='Step 10/67: training loss=0.52', object='fine_tuning.job.event', data={'step': 10, 'train_loss': 0.5246739387512207, 'total_steps': 67, 'train_mean_token_accuracy': 0.8799999952316284}, type='metrics'), FineTuningJobEvent(id='ftevent-TfjSPGjd3BJ5N9rLITqHyDpb', created_at=1745138400, level='info', message='Step 9/67: training loss=0.31', object='fine_tuning.job.event', data={'step': 9, 'train_loss': 0.30935075879096985, 'total_steps': 67, 'train_mean_token_accuracy': 0.9259259104728699}, type='metrics'), FineTuningJobEvent(id='ftevent-ZWwmNhZ0Ez4MzFLDMylukULG', created_at=1745138400, level='info', message='Step 8/67: training loss=0.12', object='fine_tuning.job.event', data={'step': 8, 'train_loss': 0.12208481132984161, 'total_steps': 67, 'train_mean_token_accuracy': 0.9200000166893005}, type='metrics'), FineTuningJobEvent(id='ftevent-e2rt80vCv2NV7R0oq3yVbsRT', created_at=1745138397, level='info', message='Step 7/67: training loss=0.16', object='fine_tuning.job.event', data={'step': 7, 'train_loss': 0.16489288210868835, 'total_steps': 67, 'train_mean_token_accuracy': 0.9200000166893005}, type='metrics'), FineTuningJobEvent(id='ftevent-p1RSnu8hiaWdllfeDEkFD3Op', created_at=1745138397, level='info', message='Step 6/67: training loss=0.46', object='fine_tuning.job.event', data={'step': 6, 'train_loss': 0.4550442099571228, 'total_steps': 67, 'train_mean_token_accuracy': 0.8518518805503845}, type='metrics'), FineTuningJobEvent(id='ftevent-bh6rz5B1bvN5lsYUB3nlhjbh', created_at=1745138395, level='info', message='Step 5/67: training loss=0.89', object='fine_tuning.job.event', data={'step': 5, 'train_loss': 0.8909446597099304, 'total_steps': 67, 'train_mean_token_accuracy': 0.8399999737739563}, type='metrics'), FineTuningJobEvent(id='ftevent-KS2jxxmY5SPnAavXb1D3hHOW', created_at=1745138395, level='info', message='Step 4/67: training loss=1.18', object='fine_tuning.job.event', data={'step': 4, 'train_loss': 1.1759278774261475, 'total_steps': 67, 'train_mean_token_accuracy': 0.8461538553237915}, type='metrics'), FineTuningJobEvent(id='ftevent-NbI6wXzM70L0IN9kTiTvKq9Z', created_at=1745138392, level='info', message='Step 3/67: training loss=1.33', object='fine_tuning.job.event', data={'step': 3, 'train_loss': 1.3323150873184204, 'total_steps': 67, 'train_mean_token_accuracy': 0.8518518805503845}, type='metrics'), FineTuningJobEvent(id='ftevent-SbMHYl0IfjdD2xlCeYvyPl9s', created_at=1745138392, level='info', message='Step 2/67: training loss=4.18', object='fine_tuning.job.event', data={'step': 2, 'train_loss': 4.177152156829834, 'total_steps': 67, 'train_mean_token_accuracy': 0.6666666865348816}, type='metrics'), FineTuningJobEvent(id='ftevent-COZ21DwOGZ6EwNpWuinZVuLg', created_at=1745138389, level='info', message='Step 1/67: training loss=3.02', object='fine_tuning.job.event', data={'step': 1, 'train_loss': 3.0210723876953125, 'total_steps': 67, 'train_mean_token_accuracy': 0.7037037014961243}, type='metrics'), FineTuningJobEvent(id='ftevent-FSWuXxZkyjHv4VgX4mq6XKzf', created_at=1745138280, level='info', message='Fine-tuning job started', object='fine_tuning.job.event', data=None, type='message'), FineTuningJobEvent(id='ftevent-QDft8LyR5FwxxO2Uk3KcyMCZ', created_at=1745138279, level='info', message='Files validated, moving job to queued state', object='fine_tuning.job.event', data={}, type='message'), FineTuningJobEvent(id='ftevent-mkjyLnFJdVIBlDiQT3ch80By', created_at=1745138213, level='info', message='Validating training file: file-G9mgTG1bvotB7DpfZB7Kjs', object='fine_tuning.job.event', data={}, type='message'), FineTuningJobEvent(id='ftevent-S6Jtoz50l2oyPiahtBtazX9Y', created_at=1745138213, level='info', message='Created fine-tuning job: ftjob-BkB9iryx32zB2QXpqEl4qGnF', object='fine_tuning.job.event', data={}, type='message')]\n"
          ]
        }
      ],
      "source": [
        "events = client.fine_tuning.jobs.list_events(latest_job.id,limit=10)\n",
        "print(list(events))"
      ]
    },
    {
      "cell_type": "code",
      "execution_count": 61,
      "metadata": {
        "id": "V0LWFjOKr7bf"
      },
      "outputs": [],
      "source": [
        "steps, training_loss, train_mean_token_accuracy = [], [], []\n",
        "\n",
        "for e in events:\n",
        "  if e.data:\n",
        "    steps.append(e.data['step'])\n",
        "    training_loss.append(e.data['train_loss'])\n",
        "    train_mean_token_accuracy.append(e.data['train_mean_token_accuracy'])"
      ]
    },
    {
      "cell_type": "code",
      "execution_count": 62,
      "metadata": {
        "colab": {
          "base_uri": "https://localhost:8080/",
          "height": 472
        },
        "id": "PTe0pK8XsjmL",
        "outputId": "527730f9-ed9f-4ed9-a13a-35362b7b4fa6"
      },
      "outputs": [
        {
          "data": {
            "image/png": "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",
            "text/plain": [
              "<Figure size 640x480 with 1 Axes>"
            ]
          },
          "metadata": {},
          "output_type": "display_data"
        }
      ],
      "source": [
        "plt.plot(steps, training_loss, marker='o', linestyle='-')\n",
        "plt.xlabel('Steps')\n",
        "plt.ylabel('Training Loss')\n",
        "plt.title('Training Loss Over Steps')\n",
        "plt.grid(True)\n",
        "plt.show()"
      ]
    },
    {
      "cell_type": "code",
      "execution_count": 63,
      "metadata": {
        "colab": {
          "base_uri": "https://localhost:8080/",
          "height": 447
        },
        "id": "TVeFGRUYr7M9",
        "outputId": "78f71d21-2435-46b3-f304-06a96eeb4c8a"
      },
      "outputs": [
        {
          "data": {
            "text/plain": [
              "[<matplotlib.lines.Line2D at 0x7c645c32ec90>]"
            ]
          },
          "execution_count": 63,
          "metadata": {},
          "output_type": "execute_result"
        },
        {
          "data": {
            "image/png": "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",
            "text/plain": [
              "<Figure size 640x480 with 1 Axes>"
            ]
          },
          "metadata": {},
          "output_type": "display_data"
        }
      ],
      "source": [
        "plt.plot(steps,train_mean_token_accuracy)"
      ]
    }
<<<<<<< HEAD
  ]
=======
  ],
  "metadata": {
    "accelerator": "GPU",
    "colab": {
      "gpuType": "T4",
      "provenance": []
    },
    "kernelspec": {
      "display_name": "Python 3",
      "name": "python3"
    },
    "language_info": {
      "name": "python"
    }
  },
  "nbformat": 4,
  "nbformat_minor": 0
>>>>>>> 9659843 (Fix small bug)
}
